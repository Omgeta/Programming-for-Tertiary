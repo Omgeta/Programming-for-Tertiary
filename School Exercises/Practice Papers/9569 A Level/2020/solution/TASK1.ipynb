{
 "cells": [
  {
   "cell_type": "code",
   "execution_count": 3,
   "source": [
    "#Task 1.1\r\n",
    "def task1_1(string_value: str) -> int:\r\n",
    "    \"\"\"\r\n",
    "    Hashes a string into a number\r\n",
    "\r\n",
    "    Args:\r\n",
    "        string_value: String to hash\r\n",
    "    Returns:\r\n",
    "        Hash integer\r\n",
    "    \"\"\"\r\n",
    "    h = 0\r\n",
    "    for char in string_value:\r\n",
    "        val = 33 * ord(char)\r\n",
    "        h = (h + val) % 1024\r\n",
    "    return h\r\n",
    "\r\n",
    "\r\n",
    "print(task1_1(\"Hello\"))\r\n",
    "print(task1_1(\"Hallo\"))\r\n",
    "print(task1_1(\"Hullo\"))\r\n"
   ],
   "outputs": [
    {
     "output_type": "stream",
     "name": "stdout",
     "text": [
      "116\n",
      "1008\n",
      "644\n"
     ]
    }
   ],
   "metadata": {}
  },
  {
   "cell_type": "code",
   "execution_count": 5,
   "source": [
    "#Task 1.2\r\n",
    "def task1_2(seed: str, string_value: str) -> int:\r\n",
    "    \"\"\"\r\n",
    "    Hashes a string value into an integer using a given seed\r\n",
    "\r\n",
    "    Args:\r\n",
    "        seed: Seed value to use\r\n",
    "        string_value: String to hash\r\n",
    "    Returns:\r\n",
    "        Hash integer\r\n",
    "    \"\"\"\r\n",
    "    combined_string_value = seed + string_value\r\n",
    "    return task1_1(combined_string_value)\r\n",
    "\r\n",
    "\r\n",
    "print(task1_2(\"seed-one\", \"Hello\"))\r\n",
    "print(task1_2(\"seed-two\", \"Hello\"))\r\n",
    "print(task1_2(\"seed-three\", \"Hello\"))"
   ],
   "outputs": [
    {
     "output_type": "stream",
     "name": "stdout",
     "text": [
      "388\n",
      "156\n",
      "282\n"
     ]
    }
   ],
   "metadata": {}
  }
 ],
 "metadata": {
  "orig_nbformat": 4,
  "language_info": {
   "name": "python",
   "version": "3.8.5",
   "mimetype": "text/x-python",
   "codemirror_mode": {
    "name": "ipython",
    "version": 3
   },
   "pygments_lexer": "ipython3",
   "nbconvert_exporter": "python",
   "file_extension": ".py"
  },
  "kernelspec": {
   "name": "python3",
   "display_name": "Python 3.8.5 64-bit ('base': conda)"
  },
  "interpreter": {
   "hash": "ed8c63d9f50fd6ab2650f6ee384e82ae7060c195befec11f29967f5c0c0d94c0"
  }
 },
 "nbformat": 4,
 "nbformat_minor": 2
}