{
 "cells": [
  {
   "cell_type": "code",
   "execution_count": 9,
   "source": [
    "# Task 3.1\r\n",
    "from typing import Union\r\n",
    "\r\n",
    "def task3_1(quantity_of_data: str) -> Union[str, int]:\r\n",
    "    \"\"\"\r\n",
    "    Converts a quantity of data in KB, MB, GB or TB into its representation in bytes\r\n",
    "\r\n",
    "    Args:\r\n",
    "        quantity_of_data: Quantity of data to be converted\r\n",
    "    Returns:\r\n",
    "        Number of data in bytes or error message 'invalid bytes'\r\n",
    "    \"\"\"\r\n",
    "    # Create dict to convert type to the required scaling\r\n",
    "    UNIT_TO_MULTIPLIER = {\r\n",
    "        \"KB\": 10**3,\r\n",
    "        \"MB\": 10**6,\r\n",
    "        \"GB\": 10**9,\r\n",
    "        \"TB\": 10**12\r\n",
    "    }\r\n",
    "\r\n",
    "    # Check if given string is a sequence of digits followed by one of the approved units\r\n",
    "    if quantity_of_data[-2:] in UNIT_TO_MULTIPLIER and quantity_of_data[:-2].isdigit():\r\n",
    "        num = int(quantity_of_data[:-2])\r\n",
    "        mult = UNIT_TO_MULTIPLIER[quantity_of_data[-2:]]\r\n",
    "        return num * mult\r\n",
    "    else:\r\n",
    "        return \"invalid data\"\r\n",
    "\r\n",
    "\r\n",
    "task3_1(\"8KB\")\r\n"
   ],
   "outputs": [
    {
     "output_type": "execute_result",
     "data": {
      "text/plain": [
       "8000"
      ]
     },
     "metadata": {},
     "execution_count": 9
    }
   ],
   "metadata": {}
  },
  {
   "cell_type": "code",
   "execution_count": 11,
   "source": [
    "# Task 3.2\r\n",
    "def task3_2(quantity_of_data: str) -> Union[str, int]:\r\n",
    "    \"\"\"\r\n",
    "    Converts a quantity of data in KB, MB, GB, TB, KiB, MiB, GiB or TiB into its representation in bytes\r\n",
    "\r\n",
    "    Args:\r\n",
    "        quantity_of_data: Quantity of data to be converted\r\n",
    "    Returns:\r\n",
    "        Number of data in bytes or error message 'invalid bytes'\r\n",
    "    \"\"\"\r\n",
    "    # Create dict to convert type to the required scaling\r\n",
    "    UNIT_TO_MULTIPLIER = {\r\n",
    "        \"KB\": 10**3,\r\n",
    "        \"MB\": 10**6,\r\n",
    "        \"GB\": 10**9,\r\n",
    "        \"TB\": 10**12,\r\n",
    "        \"KiB\": 2**10,\r\n",
    "        \"MiB\": 2**20,\r\n",
    "        \"GiB\": 2**30,\r\n",
    "        \"TiB\": 2**40,\r\n",
    "    }\r\n",
    "\r\n",
    "    # Check if given string is a sequence of digits followed by one of the approved units\r\n",
    "    if quantity_of_data[-2:] in UNIT_TO_MULTIPLIER and quantity_of_data[:-2].isdigit():\r\n",
    "        num = int(quantity_of_data[:-2])\r\n",
    "        mult = UNIT_TO_MULTIPLIER[quantity_of_data[-2:]]\r\n",
    "        return num * mult\r\n",
    "    elif quantity_of_data[-3:] in UNIT_TO_MULTIPLIER and quantity_of_data[:-3].isdigit():\r\n",
    "        num = int(quantity_of_data[:-3])\r\n",
    "        mult = UNIT_TO_MULTIPLIER[quantity_of_data[-3:]]\r\n",
    "        return num * mult\r\n",
    "    else:\r\n",
    "        return \"invalid data\"\r\n",
    "\r\n",
    "\r\n",
    "task3_2(\"2MiB\")"
   ],
   "outputs": [
    {
     "output_type": "execute_result",
     "data": {
      "text/plain": [
       "2097152"
      ]
     },
     "metadata": {},
     "execution_count": 11
    }
   ],
   "metadata": {}
  },
  {
   "cell_type": "code",
   "execution_count": 13,
   "source": [
    "# Task 3.3\r\n",
    "def task3_3(quantity_of_data: str, target_unit: str):\r\n",
    "    \"\"\"\r\n",
    "    Converts a quantity of data from one unit to the target unit\r\n",
    "\r\n",
    "    Args:\r\n",
    "        quantity_of_data: Quantity to convert from\r\n",
    "        target_unit: Unit type to convert to\r\n",
    "    Returns:\r\n",
    "        Number representating the quantity in the target unit\r\n",
    "    \"\"\"\r\n",
    "    UNIT_TO_MULTIPLIER = {\r\n",
    "        \"KB\": 10**3,\r\n",
    "        \"MB\": 10**6,\r\n",
    "        \"GB\": 10**9,\r\n",
    "        \"TB\": 10**12,\r\n",
    "        \"KiB\": 2**10,\r\n",
    "        \"MiB\": 2**20,\r\n",
    "        \"GiB\": 2**30,\r\n",
    "        \"TiB\": 2**40,\r\n",
    "    }\r\n",
    "\r\n",
    "    quantity_in_bytes = task3_2(quantity_of_data)\r\n",
    "    #Check if target_unit is in approved units and quantity_in_bytes is not invalid\r\n",
    "    if target_unit in UNIT_TO_MULTIPLIER and not isinstance(quantity_in_bytes, str):\r\n",
    "        mult = UNIT_TO_MULTIPLIER[target_unit]\r\n",
    "        return quantity_in_bytes / mult\r\n",
    "    else:\r\n",
    "        return \"invalid data\"\r\n",
    "\r\n",
    "\r\n",
    "task3_3(\"512MiB\", \"GiB\")"
   ],
   "outputs": [
    {
     "output_type": "execute_result",
     "data": {
      "text/plain": [
       "0.5"
      ]
     },
     "metadata": {},
     "execution_count": 13
    }
   ],
   "metadata": {}
  }
 ],
 "metadata": {
  "orig_nbformat": 4,
  "language_info": {
   "name": "python",
   "version": "3.8.5",
   "mimetype": "text/x-python",
   "codemirror_mode": {
    "name": "ipython",
    "version": 3
   },
   "pygments_lexer": "ipython3",
   "nbconvert_exporter": "python",
   "file_extension": ".py"
  },
  "kernelspec": {
   "name": "python3",
   "display_name": "Python 3.8.5 64-bit ('base': conda)"
  },
  "interpreter": {
   "hash": "ed8c63d9f50fd6ab2650f6ee384e82ae7060c195befec11f29967f5c0c0d94c0"
  }
 },
 "nbformat": 4,
 "nbformat_minor": 2
}