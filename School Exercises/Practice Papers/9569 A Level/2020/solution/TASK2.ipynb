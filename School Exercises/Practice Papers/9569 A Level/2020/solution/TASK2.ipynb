{
 "cells": [
  {
   "cell_type": "code",
   "execution_count": 2,
   "source": [
    "#Task 2.1\r\n",
    "from typing import List\r\n",
    "from random import randint\r\n",
    "\r\n",
    "def gen_random_list(quantity: int, lower_limit: int, upper_limit: int) -> List[int]:\r\n",
    "    \"\"\"\r\n",
    "    Generates a random list of integers\r\n",
    "\r\n",
    "    Args:\r\n",
    "        quantity: Number of integers to generate\r\n",
    "        lower_limit: Lower limit for possible integers\r\n",
    "        upper_limit: Upper limit for possible integers\r\n",
    "    Returns:\r\n",
    "        Random list of integers from lower_limit to upper_limit\r\n",
    "    \"\"\"\r\n",
    "    return [randint(lower_limit, upper_limit) for i in range(quantity)]\r\n",
    "\r\n",
    "\r\n",
    "def task2_1(filename: str, quantity: int, maximum: int):\r\n",
    "    \"\"\"\r\n",
    "    Writes a random list of numbers from 0 to maximum to the specified file.\r\n",
    "\r\n",
    "    Args:\r\n",
    "        filename: Filepath to write to\r\n",
    "        quantity: Number of numbers to generate\r\n",
    "        maximum: Upper limit for random number generation\r\n",
    "    \"\"\"\r\n",
    "    random_numbers = gen_random_list(quantity, 0, maximum)\r\n",
    "    with open(filename, \"w\") as f:\r\n",
    "        random_numbers_str = \"\\n\".join(map(str, random_numbers)) #Create a string with a number per line\r\n",
    "        f.write(random_numbers_str)\r\n",
    "    #f.close() is automatically called here\r\n",
    "\r\n",
    "\r\n",
    "task2_1(\"randomnumbers.txt\", 1000, 5000)"
   ],
   "outputs": [],
   "metadata": {}
  },
  {
   "cell_type": "code",
   "execution_count": 3,
   "source": [
    "#Task 2.2\r\n",
    "def merge(left: List[int], right: List[int]) -> List[int]:\r\n",
    "    \"\"\"\r\n",
    "    Merge two smaller sorted lists together\r\n",
    "\r\n",
    "    Args:\r\n",
    "        left: Left sorted list\r\n",
    "        right: Right sorted list\r\n",
    "    Returns:\r\n",
    "        Merged sorted list\r\n",
    "    \"\"\"\r\n",
    "    res = []\r\n",
    "    while left and right:\r\n",
    "        e = right.pop(0) if left[0] > right[0] else left.pop(0)\r\n",
    "        res.append(e)\r\n",
    "    return res + left + right\r\n",
    "\r\n",
    "\r\n",
    "def task2_2(list_of_integers: List[int]) -> List[int]:\r\n",
    "    \"\"\"\r\n",
    "    Sorts a list of integers by merge sort in ascending order\r\n",
    "\r\n",
    "    Args:\r\n",
    "        list_of_integers: Unsorted list of integers\r\n",
    "    Returns:\r\n",
    "        Sorted list of integers\r\n",
    "    \"\"\"\r\n",
    "    if len(list_of_integers) > 1:\r\n",
    "        mid = len(list_of_integers) // 2\r\n",
    "        left, right = list_of_integers[:mid], list_of_integers[mid:]\r\n",
    "\r\n",
    "        left, right = task2_2(left), task2_2(right)\r\n",
    "        return merge(left, right)\r\n",
    "    else:\r\n",
    "        return list_of_integers\r\n",
    "\r\n",
    "\r\n",
    "print(task2_2([56, 25, 4, 98, 0, 18, 4, 5, 7, 0]) == [0, 0, 4, 4, 5, 7, 18, 25, 56, 98])"
   ],
   "outputs": [
    {
     "output_type": "stream",
     "name": "stdout",
     "text": [
      "True\n"
     ]
    }
   ],
   "metadata": {}
  },
  {
   "cell_type": "code",
   "execution_count": 6,
   "source": [
    "#Task 2.3\r\n",
    "def task2_3(filename_in: str, filename_out: str):\r\n",
    "    \"\"\"\r\n",
    "    Reads in a list of unsorted integers, and writes the sorted list to a specified file.\r\n",
    "\r\n",
    "    Args:\r\n",
    "        filename_in: File containing list of unsorted integers\r\n",
    "        filename_out: File to write sorted list of integers to\r\n",
    "    \"\"\"\r\n",
    "    with open(filename_in, \"r\") as f:\r\n",
    "        unsorted_numbers_str = f.read()\r\n",
    "        unsorted_numbers = list(map(int, unsorted_numbers_str.split(\"\\n\")))\r\n",
    "    #f.close() is automatically called here\r\n",
    "\r\n",
    "    sorted_numbers = task2_2(unsorted_numbers)\r\n",
    "\r\n",
    "    with open(filename_out, \"w\") as f:\r\n",
    "        sorted_numbers_str = \"\\n\".join(map(str, sorted_numbers))\r\n",
    "        f.write(sorted_numbers_str)\r\n",
    "\r\n",
    "\r\n",
    "task2_3(\"randomnumbers.txt\", \"sortednumbers.txt\")\r\n"
   ],
   "outputs": [],
   "metadata": {}
  }
 ],
 "metadata": {
  "orig_nbformat": 4,
  "language_info": {
   "name": "python",
   "version": "3.8.5",
   "mimetype": "text/x-python",
   "codemirror_mode": {
    "name": "ipython",
    "version": 3
   },
   "pygments_lexer": "ipython3",
   "nbconvert_exporter": "python",
   "file_extension": ".py"
  },
  "kernelspec": {
   "name": "python3",
   "display_name": "Python 3.8.5 64-bit ('base': conda)"
  },
  "interpreter": {
   "hash": "ed8c63d9f50fd6ab2650f6ee384e82ae7060c195befec11f29967f5c0c0d94c0"
  }
 },
 "nbformat": 4,
 "nbformat_minor": 2
}