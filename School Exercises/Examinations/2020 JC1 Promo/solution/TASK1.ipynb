{
 "cells": [
  {
   "cell_type": "code",
   "execution_count": 1,
   "metadata": {},
   "outputs": [],
   "source": [
    "#Task 1.1\n",
    "import random\n",
    "from string import ascii_letters\n",
    "\n",
    "def getID(string_len: int) -> str:\n",
    "    \"\"\"\n",
    "    Generate a random string\n",
    "    \n",
    "    Args:\n",
    "        string_len: Length of random string to generate\n",
    "    Returns:\n",
    "        Randomized string of a specified length\n",
    "    \"\"\"\n",
    "    res = \"\"\n",
    "    \n",
    "    #Repeatedly append random letters to the string\n",
    "    for _ in range(string_len):\n",
    "        res += random.choice(ascii_letters)\n",
    "        \n",
    "    return res"
   ]
  },
  {
   "cell_type": "code",
   "execution_count": 2,
   "metadata": {},
   "outputs": [],
   "source": [
    "#Task 1.2\n",
    "class HashTable:\n",
    "    def __init__(self, size: int):\n",
    "        self.size = size\n",
    "        self.data = [None] * self.size\n",
    "        \n",
    "    def hash(self, string: str) -> int:\n",
    "        \"\"\"\n",
    "        Generate a hashed index from the input string\n",
    "        by taking the square of each characters ASCII code\n",
    "        and multiplying it by its position, and summing the squares\n",
    "        \n",
    "        Args:\n",
    "            string: String to hash\n",
    "        Returns:\n",
    "            Hashed index integer\n",
    "        \"\"\"\n",
    "        total_sum = 0\n",
    "        \n",
    "        for i, char in enumerate(string, 1):\n",
    "            total_sum += (ord(char)**2) * i\n",
    "            \n",
    "        return total_sum % self.size #Wrap around values which are too large\n",
    "    \n",
    "    def insert(self, key: str, value: any):\n",
    "        \"\"\"\n",
    "        Stores a value in the hash table\n",
    "        \n",
    "        Args:\n",
    "            key: Key to store the value under\n",
    "            value: Value to store\n",
    "        \"\"\"\n",
    "        index = self.hash(key)\n",
    "        self.data[index] = value\n",
    "        \n",
    "    def get(self, key: str):\n",
    "        \"\"\"\n",
    "        Get a value from the hash table using its assosciated key\n",
    "        \n",
    "        Args:\n",
    "            key: Key to access the value\n",
    "        \"\"\"\n",
    "        index = self.hash(key)\n",
    "        return self.data[index]"
   ]
  },
  {
   "cell_type": "code",
   "execution_count": 3,
   "metadata": {},
   "outputs": [],
   "source": [
    "#Task 1.3\n",
    "class URLTable(HashTable):\n",
    "    def insert(self, urlstring: str) -> str:\n",
    "        \"\"\"\n",
    "        Stores a URL in the hash table\n",
    "        \n",
    "        Args:\n",
    "            urlstring: URL to store\n",
    "        Returns:\n",
    "            Random ID string used as the key\n",
    "        \"\"\"\n",
    "        found = False\n",
    "        while not found:\n",
    "            #Generate random ID string and use it as the key for insertion\n",
    "            random_str = getID(8)\n",
    "            random_key = self.hash(random_str)\n",
    "            if self.data[random_key] is None:\n",
    "                self.data[random_key] = random_str\n",
    "                found = True\n",
    "        \n",
    "        return random_str #Return random ID string\n",
    "    \n",
    "    def list(self) -> list:\n",
    "        \"\"\"\n",
    "        Get the contents of the table\n",
    "        \n",
    "        Returns:\n",
    "            List of non-None values\n",
    "        \"\"\"\n",
    "        return [value for value in self.data if value is not None]"
   ]
  },
  {
   "cell_type": "code",
   "execution_count": 4,
   "metadata": {},
   "outputs": [
    {
     "name": "stdout",
     "output_type": "stream",
     "text": [
      "xbFCEVuV https://www.google.com\n",
      "mFTZNAta https://www.facebook.com\n",
      "aBZFVDvJ https://www.instagram.com\n"
     ]
    }
   ],
   "source": [
    "#Task 1.4\n",
    "test_urls = (\n",
    "    \"https://www.google.com\",\n",
    "    \"https://www.facebook.com\",\n",
    "    \"https://www.instagram.com\"\n",
    ")\n",
    "\n",
    "url_table = URLTable(3)\n",
    "for url in test_urls:\n",
    "    id_string = url_table.insert(url)\n",
    "    print(id_string, url)"
   ]
  }
 ],
 "metadata": {
  "kernelspec": {
   "display_name": "Python 3",
   "language": "python",
   "name": "python3"
  },
  "language_info": {
   "codemirror_mode": {
    "name": "ipython",
    "version": 3
   },
   "file_extension": ".py",
   "mimetype": "text/x-python",
   "name": "python",
   "nbconvert_exporter": "python",
   "pygments_lexer": "ipython3",
   "version": "3.8.5"
  }
 },
 "nbformat": 4,
 "nbformat_minor": 4
}
