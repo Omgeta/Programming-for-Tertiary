{
 "cells": [
  {
   "cell_type": "code",
   "execution_count": 5,
   "source": [
    "#Task 3.1\r\n",
    "class Node:\r\n",
    "    def __init__(self, title: str):\r\n",
    "        self.title = title\r\n",
    "        self.prev = None\r\n",
    "        self.next = None\r\n",
    "\r\n",
    "    def __repr__(self):\r\n",
    "        return f\"Node({self.title})\"\r\n",
    "\r\n",
    "\r\n",
    "\r\n",
    "class SongPlaylist:\r\n",
    "    def __init__(self):\r\n",
    "        self.head = None\r\n",
    "\r\n",
    "    def insert(self, title: str):\r\n",
    "        \"\"\"\r\n",
    "        Insert a new song in the playlist\r\n",
    "\r\n",
    "        Args:\r\n",
    "            title: Song title to add\r\n",
    "        \"\"\"\r\n",
    "        new_node = Node(title)\r\n",
    "\r\n",
    "        if self.head is None:\r\n",
    "            self.head = new_node\r\n",
    "        else:\r\n",
    "            new_node.next = self.head\r\n",
    "            self.head.prev = new_node\r\n",
    "\r\n",
    "\r\n",
    "    def insertafter(self, searchtitle: str, newtitle: str):\r\n",
    "        \"\"\"\r\n",
    "        Insert a new song in the playlist\r\n",
    "        after a specified song\r\n",
    "\r\n",
    "        Args:\r\n",
    "            searchtitle: Song title to look for\r\n",
    "            newtitle: Song to add\r\n",
    "        \"\"\"\r\n",
    "        new_node = Node(newtitle)\r\n",
    "\r\n",
    "        if self.head is None:\r\n",
    "            self.head = new_node\r\n",
    "        else:\r\n",
    "            curr = self.head\r\n",
    "            found = False\r\n",
    "\r\n",
    "            while curr is not None and not found:\r\n",
    "                if curr.title == searchtitle:\r\n",
    "                    new_node.next = curr.next\r\n",
    "                    curr.next.prev = new_node\r\n",
    "                    curr.next = new_node\r\n",
    "                    new_node.prev = curr\r\n",
    "                    found = True\r\n",
    "                \r\n",
    "                curr = curr.next\r\n",
    "\r\n",
    "    def display(self):\r\n",
    "        \"\"\"\r\n",
    "        Displays all songs in the playlist in-order\r\n",
    "        \"\"\"\r\n",
    "        if self.head is None:\r\n",
    "            print(None)\r\n",
    "        else:\r\n",
    "            curr = self.head\r\n",
    "            while curr is not None:\r\n",
    "                print(curr)\r\n",
    "                curr = curr.next\r\n",
    "\r\n"
   ],
   "outputs": [],
   "metadata": {}
  },
  {
   "cell_type": "code",
   "execution_count": 8,
   "source": [
    "#Task 3.2\r\n",
    "import sys\r\n",
    "\r\n",
    "playlists = {}\r\n",
    "\r\n",
    "def menu():\r\n",
    "    print(\"1. Create New Song Playlist\\n2. Add a song in front\\n3. Add a song after\\n4. Display playlist\\n5. -1 to End\")\r\n",
    "    option = input(\"Select an option: \").strip()\r\n",
    "    if option == \"1\":\r\n",
    "        new_playlist = input(\"Enter a new playlist name: \").strip()\r\n",
    "        playlists[new_playlist] = SongPlaylist()\r\n",
    "    elif option == \"2\":\r\n",
    "        playlist = input(\"Enter a playlist name: \").strip()\r\n",
    "        if playlist not in playlists:\r\n",
    "            print(\"Playlist not found.\")\r\n",
    "        else:\r\n",
    "            new_song = input(\"Enter a new song name: \").strip()\r\n",
    "            playlists[playlist].insert(new_song)\r\n",
    "    elif option == \"3\":\r\n",
    "        playlist = input(\"Enter a playlist name: \").strip()\r\n",
    "        if playlist not in playlists:\r\n",
    "            print(\"Playlist not found.\")\r\n",
    "        else:\r\n",
    "            existing_song = input(\"Enter the existing song name: \").strip()\r\n",
    "            new_song = input(\"Enter a new song title: \").strip()\r\n",
    "            playlists[playlist].insertafter(existing_song, new_song)\r\n",
    "    elif option == \"-1\":\r\n",
    "        sys.exit()\r\n",
    "    else:\r\n",
    "        print(\"Invalid option.\")\r\n",
    "\r\n",
    "while True:\r\n",
    "    menu()\r\n"
   ],
   "outputs": [
    {
     "output_type": "stream",
     "name": "stdout",
     "text": [
      "1. Create New Song Playlist\n",
      "2. Add a song in front\n",
      "3. Add a song after\n",
      "4. Display playlist\n",
      "5. -1 to End\n"
     ]
    },
    {
     "output_type": "error",
     "ename": "KeyboardInterrupt",
     "evalue": "Interrupted by user",
     "traceback": [
      "\u001b[1;31m---------------------------------------------------------------------------\u001b[0m",
      "\u001b[1;31mKeyboardInterrupt\u001b[0m                         Traceback (most recent call last)",
      "\u001b[1;32m<ipython-input-8-b4ab9ee272f1>\u001b[0m in \u001b[0;36m<module>\u001b[1;34m\u001b[0m\n\u001b[0;32m     30\u001b[0m         \u001b[0mprint\u001b[0m\u001b[1;33m(\u001b[0m\u001b[1;34m\"Invalid option.\"\u001b[0m\u001b[1;33m)\u001b[0m\u001b[1;33m\u001b[0m\u001b[1;33m\u001b[0m\u001b[0m\n\u001b[0;32m     31\u001b[0m \u001b[1;33m\u001b[0m\u001b[0m\n\u001b[1;32m---> 32\u001b[1;33m \u001b[0mmenu\u001b[0m\u001b[1;33m(\u001b[0m\u001b[1;33m)\u001b[0m\u001b[1;33m\u001b[0m\u001b[1;33m\u001b[0m\u001b[0m\n\u001b[0m",
      "\u001b[1;32m<ipython-input-8-b4ab9ee272f1>\u001b[0m in \u001b[0;36mmenu\u001b[1;34m()\u001b[0m\n\u001b[0;32m      6\u001b[0m \u001b[1;32mdef\u001b[0m \u001b[0mmenu\u001b[0m\u001b[1;33m(\u001b[0m\u001b[1;33m)\u001b[0m\u001b[1;33m:\u001b[0m\u001b[1;33m\u001b[0m\u001b[1;33m\u001b[0m\u001b[0m\n\u001b[0;32m      7\u001b[0m     \u001b[0mprint\u001b[0m\u001b[1;33m(\u001b[0m\u001b[1;34m\"1. Create New Song Playlist\\n2. Add a song in front\\n3. Add a song after\\n4. Display playlist\\n5. -1 to End\"\u001b[0m\u001b[1;33m)\u001b[0m\u001b[1;33m\u001b[0m\u001b[1;33m\u001b[0m\u001b[0m\n\u001b[1;32m----> 8\u001b[1;33m     \u001b[0moption\u001b[0m \u001b[1;33m=\u001b[0m \u001b[0minput\u001b[0m\u001b[1;33m(\u001b[0m\u001b[1;34m\"Select an option: \"\u001b[0m\u001b[1;33m)\u001b[0m\u001b[1;33m.\u001b[0m\u001b[0mstrip\u001b[0m\u001b[1;33m(\u001b[0m\u001b[1;33m)\u001b[0m\u001b[1;33m\u001b[0m\u001b[1;33m\u001b[0m\u001b[0m\n\u001b[0m\u001b[0;32m      9\u001b[0m     \u001b[1;32mif\u001b[0m \u001b[0moption\u001b[0m \u001b[1;33m==\u001b[0m \u001b[1;34m\"1\"\u001b[0m\u001b[1;33m:\u001b[0m\u001b[1;33m\u001b[0m\u001b[1;33m\u001b[0m\u001b[0m\n\u001b[0;32m     10\u001b[0m         \u001b[0mnew_playlist\u001b[0m \u001b[1;33m=\u001b[0m \u001b[0minput\u001b[0m\u001b[1;33m(\u001b[0m\u001b[1;34m\"Enter a new playlist name: \"\u001b[0m\u001b[1;33m)\u001b[0m\u001b[1;33m.\u001b[0m\u001b[0mstrip\u001b[0m\u001b[1;33m(\u001b[0m\u001b[1;33m)\u001b[0m\u001b[1;33m\u001b[0m\u001b[1;33m\u001b[0m\u001b[0m\n",
      "\u001b[1;32m~\\anaconda3\\lib\\site-packages\\ipykernel\\kernelbase.py\u001b[0m in \u001b[0;36mraw_input\u001b[1;34m(self, prompt)\u001b[0m\n\u001b[0;32m    858\u001b[0m                 \u001b[1;34m\"raw_input was called, but this frontend does not support input requests.\"\u001b[0m\u001b[1;33m\u001b[0m\u001b[1;33m\u001b[0m\u001b[0m\n\u001b[0;32m    859\u001b[0m             )\n\u001b[1;32m--> 860\u001b[1;33m         return self._input_request(str(prompt),\n\u001b[0m\u001b[0;32m    861\u001b[0m             \u001b[0mself\u001b[0m\u001b[1;33m.\u001b[0m\u001b[0m_parent_ident\u001b[0m\u001b[1;33m,\u001b[0m\u001b[1;33m\u001b[0m\u001b[1;33m\u001b[0m\u001b[0m\n\u001b[0;32m    862\u001b[0m             \u001b[0mself\u001b[0m\u001b[1;33m.\u001b[0m\u001b[0m_parent_header\u001b[0m\u001b[1;33m,\u001b[0m\u001b[1;33m\u001b[0m\u001b[1;33m\u001b[0m\u001b[0m\n",
      "\u001b[1;32m~\\anaconda3\\lib\\site-packages\\ipykernel\\kernelbase.py\u001b[0m in \u001b[0;36m_input_request\u001b[1;34m(self, prompt, ident, parent, password)\u001b[0m\n\u001b[0;32m    902\u001b[0m             \u001b[1;32mexcept\u001b[0m \u001b[0mKeyboardInterrupt\u001b[0m\u001b[1;33m:\u001b[0m\u001b[1;33m\u001b[0m\u001b[1;33m\u001b[0m\u001b[0m\n\u001b[0;32m    903\u001b[0m                 \u001b[1;31m# re-raise KeyboardInterrupt, to truncate traceback\u001b[0m\u001b[1;33m\u001b[0m\u001b[1;33m\u001b[0m\u001b[1;33m\u001b[0m\u001b[0m\n\u001b[1;32m--> 904\u001b[1;33m                 \u001b[1;32mraise\u001b[0m \u001b[0mKeyboardInterrupt\u001b[0m\u001b[1;33m(\u001b[0m\u001b[1;34m\"Interrupted by user\"\u001b[0m\u001b[1;33m)\u001b[0m \u001b[1;32mfrom\u001b[0m \u001b[1;32mNone\u001b[0m\u001b[1;33m\u001b[0m\u001b[1;33m\u001b[0m\u001b[0m\n\u001b[0m\u001b[0;32m    905\u001b[0m             \u001b[1;32mexcept\u001b[0m \u001b[0mException\u001b[0m \u001b[1;32mas\u001b[0m \u001b[0me\u001b[0m\u001b[1;33m:\u001b[0m\u001b[1;33m\u001b[0m\u001b[1;33m\u001b[0m\u001b[0m\n\u001b[0;32m    906\u001b[0m                 \u001b[0mself\u001b[0m\u001b[1;33m.\u001b[0m\u001b[0mlog\u001b[0m\u001b[1;33m.\u001b[0m\u001b[0mwarning\u001b[0m\u001b[1;33m(\u001b[0m\u001b[1;34m\"Invalid Message:\"\u001b[0m\u001b[1;33m,\u001b[0m \u001b[0mexc_info\u001b[0m\u001b[1;33m=\u001b[0m\u001b[1;32mTrue\u001b[0m\u001b[1;33m)\u001b[0m\u001b[1;33m\u001b[0m\u001b[1;33m\u001b[0m\u001b[0m\n",
      "\u001b[1;31mKeyboardInterrupt\u001b[0m: Interrupted by user"
     ]
    }
   ],
   "metadata": {}
  },
  {
   "cell_type": "code",
   "execution_count": null,
   "source": [
    "#Task 3.3\r\n"
   ],
   "outputs": [],
   "metadata": {}
  }
 ],
 "metadata": {
  "orig_nbformat": 4,
  "language_info": {
   "name": "python",
   "version": "3.8.5",
   "mimetype": "text/x-python",
   "codemirror_mode": {
    "name": "ipython",
    "version": 3
   },
   "pygments_lexer": "ipython3",
   "nbconvert_exporter": "python",
   "file_extension": ".py"
  },
  "kernelspec": {
   "name": "python3",
   "display_name": "Python 3.8.5 64-bit ('base': conda)"
  },
  "interpreter": {
   "hash": "ed8c63d9f50fd6ab2650f6ee384e82ae7060c195befec11f29967f5c0c0d94c0"
  }
 },
 "nbformat": 4,
 "nbformat_minor": 2
}