{
 "cells": [
  {
   "cell_type": "code",
   "execution_count": 1,
   "metadata": {},
   "outputs": [],
   "source": [
    "#Task 1.1\n",
    "class Node:\n",
    "    def __init__(self, key: str, position: int):\n",
    "        self.key = key\n",
    "        self.position = position\n",
    "        self.left = None\n",
    "        self.right = None\n",
    "        \n",
    "    def __repr__(self):\n",
    "        return f'Node(\"{self.key}\": {self.position})'"
   ]
  },
  {
   "cell_type": "code",
   "execution_count": 2,
   "metadata": {},
   "outputs": [],
   "source": [
    "#Task 1.2\n",
    "class WordIndex:\n",
    "    def __init__(self, inputlist):\n",
    "        self.root = self.fromlist(inputlist)\n",
    "    \n",
    "    @classmethod\n",
    "    def fromlist(cls, inputlist):\n",
    "        '''\n",
    "        Converts inputlist into a subtree,\n",
    "        and returns the root node of the subtree\n",
    "        '''\n",
    "        if len(inputlist) == 0:\n",
    "            return None\n",
    "        mid = len(inputlist) // 2\n",
    "        key, position = inputlist[mid]\n",
    "        root = Node(key, position)\n",
    "        if len(inputlist) > 1:\n",
    "            root.left = cls.fromlist(inputlist[:mid])\n",
    "            root.right = cls.fromlist(inputlist[mid+1:])\n",
    "        return root\n",
    "    \n",
    "    def add(self, key: str, position: int):\n",
    "        \"\"\"\n",
    "        Adds a new word node to the WordIndex BST\n",
    "        \n",
    "        Args:\n",
    "            key: Word\n",
    "            position: Page position of word\n",
    "        \"\"\"\n",
    "        new_node = Node(key, position)\n",
    "        \n",
    "        if self.root is None:\n",
    "            self.root = new_node\n",
    "        else:\n",
    "            added = False\n",
    "            current = self.root\n",
    "            while not added:\n",
    "                if key < current.key:\n",
    "                    if current.left is not None:\n",
    "                        current = current.left\n",
    "                    else:\n",
    "                        current.left = new_node\n",
    "                        added = True\n",
    "                elif key > current.key:\n",
    "                    if current.right is not None:\n",
    "                        current = current.right\n",
    "                    else:\n",
    "                        current.right = new_node\n",
    "                        added = True\n",
    "                else:\n",
    "                    added = True\n",
    "                    \n",
    "    def getPosition(self, word: str) -> int:\n",
    "        \"\"\"\n",
    "        Get page position of a specified word if it exists in the BST\n",
    "        \n",
    "        Args:\n",
    "            word: Word to search for\n",
    "        Returns:\n",
    "            Page position of word or None\n",
    "        \"\"\"\n",
    "        if self.root:\n",
    "            current = self.root\n",
    "            \n",
    "            while current.key != word:\n",
    "                if word < current.key and current.left is not None:\n",
    "                    current = current.left\n",
    "                elif word > current.key and current.right is not None:\n",
    "                    current = current.right\n",
    "                else:\n",
    "                    return None\n",
    "                \n",
    "            return current.position"
   ]
  },
  {
   "cell_type": "code",
   "execution_count": 3,
   "metadata": {},
   "outputs": [],
   "source": [
    "#Task 1.3\n",
    "from typing import List\n",
    "\n",
    "def inorder(node: Node) -> List[Node]:\n",
    "    \"\"\"\n",
    "    Returns a list of node objects in the BST in-order\n",
    "    \n",
    "    Args:\n",
    "        node: Starting node\n",
    "    Returns:\n",
    "        List of nodes in-order\n",
    "    \"\"\"\n",
    "    res = []\n",
    "    \n",
    "    if node.left is not None:\n",
    "        res.extend(inorder(node.left))\n",
    "    res.append(node)\n",
    "    if node.right is not None:\n",
    "        res.extend(inorder(node.right))\n",
    "        \n",
    "    return res"
   ]
  },
  {
   "cell_type": "code",
   "execution_count": 4,
   "metadata": {},
   "outputs": [
    {
     "name": "stdout",
     "output_type": "stream",
     "text": [
      "38\n"
     ]
    }
   ],
   "source": [
    "#Task 1.4\n",
    "data = [('afraid', 23), (\"bay'd\", 28), ('beard', 6), ('beguiled', 4), ('bequeath', 20), ('bored', 18), ('broom', 38), ('changeling', 27), ('comest', 25), ('despise', 21), ('dissension', 8), ('duty', 2), ('gentles', 33), ('hand', 10), ('handicraft', 30), ('iii', 13), ('judgment', 1), (\"labour'd\", 32), ('liar', 39), ('lover', 5), ('luck', 7), ('neither', 16), ('ounce', 11), ('overbear', 29), ('ox-beef', 17), ('peril', 12), ('pursue', 9), ('ready', 26), ('release', 24), ('shines', 36), ('stones', 34), ('strife', 35), ('strike', 22), ('supposed', 31), ('tire', 15), ('unsay', 3), ('venus', 19), ('warrant', 37), ('yes', 14)]\n",
    "\n",
    "wi = WordIndex(data)\n",
    "wi.add(\"assure\", 38)\n",
    "\n",
    "print(wi.getPosition(\"assure\"))"
   ]
  }
 ],
 "metadata": {
  "kernelspec": {
   "display_name": "Python 3",
   "language": "python",
   "name": "python3"
  },
  "language_info": {
   "codemirror_mode": {
    "name": "ipython",
    "version": 3
   },
   "file_extension": ".py",
   "mimetype": "text/x-python",
   "name": "python",
   "nbconvert_exporter": "python",
   "pygments_lexer": "ipython3",
   "version": "3.8.5"
  }
 },
 "nbformat": 4,
 "nbformat_minor": 4
}
