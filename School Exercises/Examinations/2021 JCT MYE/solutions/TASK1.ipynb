{
 "cells": [
  {
   "cell_type": "code",
   "execution_count": 1,
   "metadata": {},
   "outputs": [],
   "source": [
    "#Task 1.1\n",
    "def task1_1(inarray: list) -> dict:\n",
    "    \"\"\"\n",
    "    Returns a frequency of word occurences in a list\n",
    "    Params:\n",
    "        inarray (list) - List of inputted words\n",
    "    Returns:\n",
    "        freq_dict (dict) - Dict of word frequencies\n",
    "    \"\"\"\n",
    "    freq_dict = {}\n",
    "    for elem in inarray:\n",
    "        freq_dict[elem] = freq_dict.get(elem, 0) + 1\n",
    "    return freq_dict"
   ]
  },
  {
   "cell_type": "code",
   "execution_count": 2,
   "metadata": {},
   "outputs": [
    {
     "name": "stdout",
     "output_type": "stream",
     "text": [
      "{'Alice': 4, 'Bob': 3, 'Charlie': 2}\n",
      "{'1': 4, '6': 3, '10': 1, '2': 2, '9': 2}\n",
      "{'Yes': 5, 'No': 5}\n"
     ]
    }
   ],
   "source": [
    "tests = [\n",
    "    [\"Alice\", \"Bob\", \"Alice\", \"Charlie\", \"Bob\", \"Bob\", \"Alice\", \"Charlie\", \"Alice\"],\n",
    "    [\"1\", \"6\", \"10\", \"6\", \"2\", \"1\", \"9\", \"1\", \"6\", \"9\", \"1\", \"2\"],\n",
    "    [\"Yes\", \"Yes\", \"No\", \"Yes\", \"No\", \"No\", \"No\", \"Yes\", \"No\", \"Yes\"]\n",
    "]\n",
    "\n",
    "for test in tests:\n",
    "    res = task1_1(test)\n",
    "    print(res)"
   ]
  },
  {
   "cell_type": "code",
   "execution_count": 8,
   "metadata": {},
   "outputs": [],
   "source": [
    "#Task 1.2\n",
    "def task1_2(sentence: str) -> dict:\n",
    "    \"\"\"\n",
    "    Returns a frequency of word occurences in a sentence\n",
    "    Params:\n",
    "        sentence (str) - Sentence string\n",
    "    Returns:\n",
    "        freq_dict (dict) - Dict of word frequencies\n",
    "    \"\"\"\n",
    "    punctuation = (\".\", \",\",\"!\", \"?\", \"-\", \"'\", '\"')\n",
    "    for p in punctuation:\n",
    "        sentence = sentence.replace(p, \"\")\n",
    "    tokens = sentence.split()\n",
    "    freq_dict = task1_1(tokens)\n",
    "    return freq_dict"
   ]
  },
  {
   "cell_type": "code",
   "execution_count": 9,
   "metadata": {},
   "outputs": [
    {
     "name": "stdout",
     "output_type": "stream",
     "text": [
      "{'All': 1, 'tasks': 1, 'must': 1, 'be': 1, 'done': 1, 'in': 3, 'the': 1, 'computer': 1, 'laboratory': 1, 'You': 1, 'are': 1, 'not': 1, 'allowed': 1, 'to': 1, 'bring': 1, 'or': 4, 'take': 1, 'out': 1, 'any': 2, 'pieces': 1, 'of': 1, 'work': 1, 'materials': 1, 'on': 1, 'paper': 1, 'electronic': 1, 'media': 1, 'other': 1, 'form': 1}\n"
     ]
    }
   ],
   "source": [
    "test = \"All tasks must be done in the computer laboratory. You are not allowed to bring in or take out any pieces of work or materials on paper or electronic media or in any other form.\"\n",
    "\n",
    "res = task1_2(test)\n",
    "print(res)"
   ]
  },
  {
   "cell_type": "code",
   "execution_count": null,
   "metadata": {},
   "outputs": [],
   "source": []
  }
 ],
 "metadata": {
  "kernelspec": {
   "display_name": "Python 3",
   "language": "python",
   "name": "python3"
  },
  "language_info": {
   "codemirror_mode": {
    "name": "ipython",
    "version": 3
   },
   "file_extension": ".py",
   "mimetype": "text/x-python",
   "name": "python",
   "nbconvert_exporter": "python",
   "pygments_lexer": "ipython3",
   "version": "3.6.4"
  }
 },
 "nbformat": 4,
 "nbformat_minor": 2
}
