{
 "cells": [
  {
   "cell_type": "code",
   "execution_count": 6,
   "metadata": {},
   "outputs": [],
   "source": [
    "#Task 2.1\n",
    "def task2_1(list_of_integers: list) -> list:\n",
    "    \"\"\"\n",
    "    Sorts a list of integers\n",
    "    Params:\n",
    "        list_of_integers (list) - Inputted list of integers\n",
    "    Returns:\n",
    "        (list) - Sorted list of integers\n",
    "    \"\"\"\n",
    "    for i in range(1, len(list_of_integers)):\n",
    "        e = list_of_integers.pop(i)\n",
    "        if e < list_of_integers[i-1]:\n",
    "            list_of_integers.insert(i, e)\n",
    "        elif e >= list_of_integers[0]:\n",
    "            list_of_integers.insert(0, e)\n",
    "        else:\n",
    "            found = False\n",
    "            j = 0\n",
    "            while j != i and not found:\n",
    "                if list_of_integers[j] >= e > list_of_integers[j+1]:\n",
    "                    list_of_integers.insert(j+1, e)\n",
    "                    found = True\n",
    "                j += 1\n",
    "    return list_of_integers"
   ]
  },
  {
   "cell_type": "code",
   "execution_count": 7,
   "metadata": {},
   "outputs": [
    {
     "name": "stdout",
     "output_type": "stream",
     "text": [
      "Test passed!\n"
     ]
    }
   ],
   "source": [
    "test = [50, 10, 1000, 200, 500, 5000, 5, 100, 20]\n",
    "expected_result = [5000, 1000, 500, 200, 100, 50, 20, 10, 5]\n",
    "\n",
    "result = task2_1(test)\n",
    "if result == expected_result:\n",
    "    print(\"Test passed!\")\n",
    "else:\n",
    "    print(f\"Test failed! {result}\")"
   ]
  },
  {
   "cell_type": "code",
   "execution_count": 15,
   "metadata": {},
   "outputs": [],
   "source": [
    "#Task 2.2\n",
    "def task2_2(amt: int, denom: list) -> list:\n",
    "    \"\"\"\n",
    "    Returns shortest array of currency denominations that make up the input amount\n",
    "    Params:\n",
    "        amt (int) - Amount to find demominations for\n",
    "        denom (list) - Sorted descending list of available denomatinations\n",
    "    Returns:\n",
    "        tray (list) - Shortest array of denominations\n",
    "    \"\"\"\n",
    "    tray = []\n",
    "    i, j = 0, 0\n",
    "    while amt > 0 and j < len(denom):\n",
    "        if amt >= denom[j]:\n",
    "            tray.append(denom[j])\n",
    "            amt -= denom[j]\n",
    "            i += 1\n",
    "        else:\n",
    "            j += 1\n",
    "    return tray"
   ]
  },
  {
   "cell_type": "code",
   "execution_count": 19,
   "metadata": {},
   "outputs": [
    {
     "name": "stdout",
     "output_type": "stream",
     "text": [
      "Test passed!\n",
      "Test passed!\n",
      "Test passed!\n"
     ]
    }
   ],
   "source": [
    "denominations = [5000, 1000, 500, 200, 100, 50, 20, 10, 5]\n",
    "tests = {\n",
    "    845: [500, 200, 100, 20, 20, 5],\n",
    "    7840: [5000, 1000, 1000, 500, 200, 100, 20, 20],\n",
    "    230: [200, 20, 10]\n",
    "}\n",
    "\n",
    "for test_amount, expected_result in tests.items():\n",
    "    result = task2_2(test_amount, denominations)\n",
    "    if result == expected_result:\n",
    "        print(f\"Test passed!\")\n",
    "    else:\n",
    "        print(f\"Test failed: {result}\")"
   ]
  },
  {
   "cell_type": "code",
   "execution_count": null,
   "metadata": {},
   "outputs": [],
   "source": []
  }
 ],
 "metadata": {
  "kernelspec": {
   "display_name": "Python 3",
   "language": "python",
   "name": "python3"
  },
  "language_info": {
   "codemirror_mode": {
    "name": "ipython",
    "version": 3
   },
   "file_extension": ".py",
   "mimetype": "text/x-python",
   "name": "python",
   "nbconvert_exporter": "python",
   "pygments_lexer": "ipython3",
   "version": "3.6.4"
  }
 },
 "nbformat": 4,
 "nbformat_minor": 2
}
