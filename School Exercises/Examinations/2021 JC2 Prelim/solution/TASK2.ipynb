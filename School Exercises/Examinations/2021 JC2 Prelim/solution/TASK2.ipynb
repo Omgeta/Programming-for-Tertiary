{
 "cells": [
  {
   "cell_type": "code",
   "execution_count": 26,
   "source": [
    "# Task 2.1\r\n",
    "from typing import List\r\n",
    "\r\n",
    "\r\n",
    "class TodoItem:\r\n",
    "    \"\"\" TodoItem implemeneted as a LinkedList Node \"\"\"\r\n",
    "\r\n",
    "    def __init__(self, title: str, _next: 'TodoItem'=None):\r\n",
    "        \"\"\" Creates a TodoItem with a title and pointing to the next item \"\"\"\r\n",
    "        self.title = title\r\n",
    "        self.__next = _next\r\n",
    "\r\n",
    "    @property\r\n",
    "    def next(self):\r\n",
    "        \"\"\" Getter for the next item \"\"\"\r\n",
    "        return self.__next\r\n",
    "\r\n",
    "    @next.setter\r\n",
    "    def next(self, todoitem: 'TodoItem'):\r\n",
    "        \"\"\" Setter for the next item \"\"\"\r\n",
    "        if isinstance(todoitem, TodoItem):\r\n",
    "            self.__next = todoitem\r\n",
    "\r\n",
    "    def link_to(self, todoitem: 'TodoItem'):\r\n",
    "        \"\"\" Links this TodoItem to the next item todoitem \"\"\"\r\n",
    "        if isinstance(todoitem, TodoItem):\r\n",
    "            self.__next = todoitem\r\n",
    "\r\n",
    "\r\n",
    "class TodoList:\r\n",
    "    \"\"\"TodoList implemented as a LinkedList\"\"\"\r\n",
    "\r\n",
    "    def __init__(self):\r\n",
    "        \"\"\" Create LinkedList wiht head and tail pointers at the first and last node respectively \"\"\"\r\n",
    "        self.__head = None\r\n",
    "        self.__tail = None\r\n",
    "\r\n",
    "    @property\r\n",
    "    def head(self) -> TodoItem:\r\n",
    "        \"\"\" Getter for head property \"\"\"\r\n",
    "        return self.__head\r\n",
    "\r\n",
    "    @head.setter\r\n",
    "    def head(self, todoitem: TodoItem):\r\n",
    "        \"\"\" Setter for head property \"\"\"\r\n",
    "        if isinstance(todoitem, TodoItem):\r\n",
    "            self.__head = todoitem\r\n",
    "\r\n",
    "    @property\r\n",
    "    def tail(self) -> TodoItem:\r\n",
    "        \"\"\" Getter for tail property \"\"\"\r\n",
    "        return self.__tail\r\n",
    "\r\n",
    "    @tail.setter\r\n",
    "    def tail(self, todoitem: TodoItem):\r\n",
    "        \"\"\" Setter for tail property \"\"\"\r\n",
    "        if isinstance(todoitem, TodoItem):\r\n",
    "            self.__tail = todoitem\r\n",
    "\r\n",
    "    def add(self, item: str):\r\n",
    "        \"\"\" Wraps item in a TodoItem instance and adds it to the end of the TodoList \"\"\"\r\n",
    "        #wrap item in a TodoItem instance\r\n",
    "        new_todoitem = TodoItem(item)\r\n",
    "\r\n",
    "        if self.head is None: #set to head if the list is currently empty\r\n",
    "            self.head = new_todoitem\r\n",
    "            self.tail = new_todoitem\r\n",
    "        else:\r\n",
    "            #iterate through the list until the end is reached\r\n",
    "            prev, curr = None, self.head\r\n",
    "\r\n",
    "            while curr is not None:\r\n",
    "                prev, curr = curr, curr.next\r\n",
    "\r\n",
    "            #set the next property of the last element to point towards the new item\r\n",
    "            prev.next = new_todoitem\r\n",
    "            self.tail = new_todoitem\r\n",
    "\r\n",
    "    def remove(self, item: str):\r\n",
    "        \"\"\" Removes the first TodoItem node with the item title in the TodoList \"\"\"\r\n",
    "        # iterate through list until item is found\r\n",
    "        prev, curr = None, self.head\r\n",
    "        while curr is not None:\r\n",
    "            if curr.title == item:\r\n",
    "                if self.tail == curr:\r\n",
    "                    self.tail = prev\r\n",
    "                if self.head == curr:\r\n",
    "                    self.head = curr.next\r\n",
    "                else:\r\n",
    "                    prev.next = curr.next\r\n",
    "                curr = None\r\n",
    "                continue\r\n",
    "                \r\n",
    "            prev, curr = curr, curr.next\r\n",
    "\r\n",
    "    def list(self) -> List[str]:\r\n",
    "        \"\"\" Returns a list containing each item in the TodoList \"\"\"\r\n",
    "        res = []\r\n",
    "\r\n",
    "        curr = self.head\r\n",
    "        while curr is not None:\r\n",
    "            res.append(curr.title)\r\n",
    "            curr = curr.next\r\n",
    "\r\n",
    "        return res\r\n"
   ],
   "outputs": [],
   "metadata": {}
  },
  {
   "cell_type": "code",
   "execution_count": 27,
   "source": [
    "# Task 2.2\r\n",
    "todo_list = TodoList()\r\n",
    "todo_list.add(\"Buy milk\")\r\n",
    "todo_list.add(\"Buy flour\")\r\n",
    "todo_list.add(\"Buy eggs\")\r\n",
    "todo_list.add(\"Buy cake\")\r\n",
    "\r\n",
    "print(todo_list.list())\r\n"
   ],
   "outputs": [
    {
     "output_type": "stream",
     "name": "stdout",
     "text": [
      "['Buy milk', 'Buy flour', 'Buy eggs', 'Buy cake']\n"
     ]
    }
   ],
   "metadata": {}
  },
  {
   "cell_type": "code",
   "execution_count": 28,
   "source": [
    "# Task 2.3\r\n",
    "todo_list.remove(\"Buy milk\")\r\n",
    "todo_list.remove(\"Buy eggs\")\r\n",
    "\r\n",
    "print(todo_list.list())"
   ],
   "outputs": [
    {
     "output_type": "stream",
     "name": "stdout",
     "text": [
      "['Buy flour', 'Buy cake']\n"
     ]
    }
   ],
   "metadata": {}
  }
 ],
 "metadata": {
  "orig_nbformat": 4,
  "language_info": {
   "name": "python",
   "version": "3.8.5",
   "mimetype": "text/x-python",
   "codemirror_mode": {
    "name": "ipython",
    "version": 3
   },
   "pygments_lexer": "ipython3",
   "nbconvert_exporter": "python",
   "file_extension": ".py"
  },
  "kernelspec": {
   "name": "python3",
   "display_name": "Python 3.8.5 64-bit ('base': conda)"
  },
  "interpreter": {
   "hash": "ed8c63d9f50fd6ab2650f6ee384e82ae7060c195befec11f29967f5c0c0d94c0"
  }
 },
 "nbformat": 4,
 "nbformat_minor": 2
}