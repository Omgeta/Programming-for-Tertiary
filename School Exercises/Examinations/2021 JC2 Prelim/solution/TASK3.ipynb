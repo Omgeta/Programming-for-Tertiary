{
 "cells": [
  {
   "cell_type": "code",
   "execution_count": 1,
   "source": [
    "#Task 3.1\r\n",
    "from typing import Tuple\r\n",
    "\r\n",
    "def valid_hex(hex: str) -> bool:\r\n",
    "    \"\"\"\r\n",
    "    Validates a hex string to follow the format\r\n",
    "    #XXXXXX where each X represents a hex digit from 0-F\r\n",
    "    \r\n",
    "    Args:\r\n",
    "        hex: Hex color code string\r\n",
    "    Returns:\r\n",
    "        Whether input is a valid hex color code\r\n",
    "    \"\"\"\r\n",
    "    if not isinstance(hex, str):\r\n",
    "        return False #Invalid type\r\n",
    "    elif len(hex) != 7:\r\n",
    "        return False #Invalid length\r\n",
    "    else:\r\n",
    "        for char in hex[1:]:\r\n",
    "            if char not in \"0123456789ABCDEF\":\r\n",
    "                return False #Invalid hex characters\r\n",
    "    return True\r\n",
    "\r\n",
    "def task3_1(hex: str) -> Tuple[int]:\r\n",
    "    \"\"\"\r\n",
    "    Takes in a hex code of the format #XXXXXX\r\n",
    "    where every 2 digits (XX) are hexadecimal from 00-FF\r\n",
    "    and converts it to 3-integer tuple representing RGB values\r\n",
    "    which each index having range 0-255\r\n",
    "    \r\n",
    "    Args:\r\n",
    "        hex: Hex color code\r\n",
    "    Returns:\r\n",
    "        3-integer tuple of RGB values\r\n",
    "    \"\"\"\r\n",
    "    if not valid_hex(hex): #Check for invalid inputs\r\n",
    "        print(\"invalid data\")\r\n",
    "        return \"invalid data\"\r\n",
    "    else:\r\n",
    "        res = []\r\n",
    "        #Take digits in pairs for R, G and B\r\n",
    "        for i in range(1, len(hex), 2):\r\n",
    "            hex_digit = hex[i: i+2]\r\n",
    "            digit_in_decimal = int(hex_digit, 16) #Convert from hex to decimal\r\n",
    "            res.append(digit_in_decimal)\r\n",
    "\r\n",
    "        print(tuple(res))\r\n",
    "        return tuple(res)\r\n",
    "            \r\n",
    "task3_1(\"#FFFFFF\")"
   ],
   "outputs": [
    {
     "output_type": "stream",
     "name": "stdout",
     "text": [
      "(255, 255, 255)\n"
     ]
    },
    {
     "output_type": "execute_result",
     "data": {
      "text/plain": [
       "(255, 255, 255)"
      ]
     },
     "metadata": {},
     "execution_count": 1
    }
   ],
   "metadata": {}
  },
  {
   "cell_type": "code",
   "execution_count": 2,
   "source": [
    "#Task 3.2\r\n",
    "def valid_unnormalised_rgb(rgb: Tuple[int]) -> bool:\r\n",
    "    \"\"\"\r\n",
    "    Validates a 3-integer tuple of values in the format\r\n",
    "    (X, X, X) where each value, X, represents a decimal digit from 0-255\r\n",
    "    \r\n",
    "    Args:\r\n",
    "        rgb: 3-integer tuple\r\n",
    "    Returns:\r\n",
    "        Whether input is a valid RGB tuple\r\n",
    "    \"\"\"\r\n",
    "    if not isinstance(rgb, tuple):\r\n",
    "        return False #RGB isnt a tuple\r\n",
    "    elif len(rgb) != 3:\r\n",
    "        return False #Invalid length of tuple\r\n",
    "    elif not all(map(lambda x: isinstance(x, int), rgb)):\r\n",
    "        return False #All values in RGB arent integers\r\n",
    "    elif not all(map(lambda x: 0 <= x <= 255, rgb)):\r\n",
    "        return False #Invalid range of integers\r\n",
    "    else:\r\n",
    "        return True\r\n",
    "\r\n",
    "def task3_2(rgb: Tuple[int]) -> Tuple[float]:\r\n",
    "    \"\"\"\r\n",
    "    Normalises a 3-integer tuple of RGB values from 0-255\r\n",
    "    to a 3-float tuple of RGB values from 0.0-1.0\r\n",
    "    \r\n",
    "    Args:\r\n",
    "        \r\n",
    "    \"\"\"\r\n",
    "    if not valid_unnormalised_rgb(rgb):\r\n",
    "        print(\"invalid data\")\r\n",
    "        return \"invalid data\"\r\n",
    "    else:\r\n",
    "        res = []\r\n",
    "        \r\n",
    "        for value in rgb:\r\n",
    "            normal_digit = value/255\r\n",
    "            rounded_normal_digit = round(normal_digit, 5)\r\n",
    "            res.append(rounded_normal_digit)\r\n",
    "        \r\n",
    "        print(tuple(res))\r\n",
    "        return tuple(res)\r\n",
    "    \r\n",
    "task3_2((128, 128, 128))\r\n",
    "task3_2((255, 255, 0))"
   ],
   "outputs": [
    {
     "output_type": "stream",
     "name": "stdout",
     "text": [
      "(0.50196, 0.50196, 0.50196)\n",
      "(1.0, 1.0, 0.0)\n"
     ]
    },
    {
     "output_type": "execute_result",
     "data": {
      "text/plain": [
       "(1.0, 1.0, 0.0)"
      ]
     },
     "metadata": {},
     "execution_count": 2
    }
   ],
   "metadata": {}
  },
  {
   "cell_type": "code",
   "execution_count": 3,
   "source": [
    "#Task 3.3\r\n",
    "def task3_3(hex: str) -> Tuple[float]:\r\n",
    "    \"\"\"\r\n",
    "    Takes in a hex code of the format #XXXXXX\r\n",
    "    where every 2 digits (XX) are hexadecimal from 00-FF\r\n",
    "    and converts it to 3-float tuple representing greyscaled normalised RGB values\r\n",
    "    by finding the average and setting the values to this average\r\n",
    "    \r\n",
    "    Args:\r\n",
    "        hex: Hex color code\r\n",
    "    Returns:\r\n",
    "        Greyscaled 3-float tuple of normalised RGB values\r\n",
    "    \"\"\"\r\n",
    "    unnormalised_rgb = task3_1(hex)\r\n",
    "    normalised_rgb = task3_2(unnormalised_rgb)\r\n",
    "    average = round(sum(normalised_rgb)/3, 2)\r\n",
    "    result = (average, average, average)\r\n",
    "    \r\n",
    "    print(result)\r\n",
    "    return result\r\n",
    "\r\n",
    "task3_3(\"#FF8000\")\r\n",
    "task3_3(\"#000000\")"
   ],
   "outputs": [
    {
     "output_type": "stream",
     "name": "stdout",
     "text": [
      "(255, 128, 0)\n",
      "(1.0, 0.50196, 0.0)\n",
      "(0.5, 0.5, 0.5)\n"
     ]
    },
    {
     "output_type": "execute_result",
     "data": {
      "text/plain": [
       "(0.5, 0.5, 0.5)"
      ]
     },
     "metadata": {},
     "execution_count": 3
    }
   ],
   "metadata": {}
  }
 ],
 "metadata": {
  "kernelspec": {
   "display_name": "Python 3",
   "language": "python",
   "name": "python3"
  },
  "language_info": {
   "codemirror_mode": {
    "name": "ipython",
    "version": 3
   },
   "file_extension": ".py",
   "mimetype": "text/x-python",
   "name": "python",
   "nbconvert_exporter": "python",
   "pygments_lexer": "ipython3",
   "version": "3.6.4"
  }
 },
 "nbformat": 4,
 "nbformat_minor": 2
}