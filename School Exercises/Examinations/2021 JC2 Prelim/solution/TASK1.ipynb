{
 "cells": [
  {
   "cell_type": "code",
   "execution_count": 3,
   "source": [
    "#Task 1.1\r\n",
    "from typing import List, Dict, Union\r\n",
    "import csv\r\n",
    "\r\n",
    "TIDAL_DATA_FILEPATH = \"../TIDES.txt\"\r\n",
    "\r\n",
    "\r\n",
    "def parse_tidal_data(filepath: str) -> List[Dict[str, Union[str, float]]]:\r\n",
    "    \"\"\"\r\n",
    "    Parse CSV containing tidal data is parsed into a list of dictionaries\r\n",
    "\r\n",
    "    Args:\r\n",
    "        filepath: Filepath to the CSV file to read from.\r\n",
    "    Return:\r\n",
    "        List of dictionaries containing tidal data.\r\n",
    "    \"\"\"\r\n",
    "    res = []\r\n",
    "\r\n",
    "    # open the file\r\n",
    "    with open(filepath, \"r\", encoding=\"utf-8\") as f:\r\n",
    "        #iterate through rows with headers assigned to each column\r\n",
    "        fieldnames = [\"Date\", \"Time\", \"Tide\", \"Height\"]\r\n",
    "        reader = csv.DictReader(f, fieldnames=fieldnames, delimiter=\"\\t\")\r\n",
    "        for row in reader:\r\n",
    "            row[\"Height\"] = float(row[\"Height\"]) #set all height values to float\r\n",
    "            res.append(row)\r\n",
    "    #f.close() is automatically called here\r\n",
    "\r\n",
    "    return res\r\n",
    "\r\n",
    "\r\n",
    "# Read in the data\r\n",
    "tidal_data = parse_tidal_data(TIDAL_DATA_FILEPATH)\r\n",
    "\r\n",
    "# Initialize max and min values as an extreme amount\r\n",
    "highest_high = 0\r\n",
    "lowest_low = 1e99\r\n",
    "\r\n",
    "for row in tidal_data:\r\n",
    "    # Compare every row to the max and min, overwriting their old value to the current one if they are larger/smaller\r\n",
    "    if row[\"Tide\"] == \"HIGH\" and row[\"Height\"] > highest_high:\r\n",
    "        highest_high = row[\"Height\"]\r\n",
    "    elif row[\"Tide\"] == \"LOW\" and row[\"Height\"] < lowest_low:\r\n",
    "        lowest_low = row[\"Height\"]\r\n",
    "\r\n",
    "print(f\"Highest high tide: {highest_high}\")\r\n",
    "print(f\"Lowest low tide: {lowest_low}\")"
   ],
   "outputs": [
    {
     "output_type": "stream",
     "name": "stdout",
     "text": [
      "Highest high tide: 7.4\n",
      "Lowest low tide: 0.1\n"
     ]
    }
   ],
   "metadata": {}
  },
  {
   "cell_type": "code",
   "execution_count": 5,
   "source": [
    "# Task 1.2\r\n",
    "largest_tidal_range = (0, None) # Index 0 is the value, Index 2 is the date which it occured\r\n",
    "smallest_tidal_range = (1e99, None)\r\n",
    "\r\n",
    "for i in range(len(tidal_data) - 1):\r\n",
    "    # Get successive tides\r\n",
    "    first_row, second_row = tidal_data[i], tidal_data[i+1]\r\n",
    "\r\n",
    "    # Check if the successive tides go from high to low or low to high\r\n",
    "    if first_row[\"Tide\"] == \"HIGH\" and second_row[\"Tide\"] == \"LOW\" or \\\r\n",
    "        first_row[\"Tide\"] == \"LOW\" and second_row[\"Tide\"] == \"HIGH\":\r\n",
    "        # Get the absolute value of their difference in heights\r\n",
    "        curr_tidal_range = abs(first_row[\"Height\"] - second_row[\"Height\"])\r\n",
    "        second_tide_date = second_row[\"Date\"]\r\n",
    "\r\n",
    "        #Check if range is more/less than the highest/lowest range so far and update the range if true\r\n",
    "        if curr_tidal_range > largest_tidal_range[0]:\r\n",
    "            largest_tidal_range = (curr_tidal_range, second_tide_date)\r\n",
    "        elif curr_tidal_range < smallest_tidal_range[0]:\r\n",
    "            smallest_tidal_range = (curr_tidal_range, second_tide_date)\r\n",
    "\r\n",
    "print(f\"Largest tidal range {round(largest_tidal_range[0], 5)} occured on {largest_tidal_range[1]}\")\r\n",
    "print(f\"Smallest tidal range {round(smallest_tidal_range[0], 5)} occured on {smallest_tidal_range[1]}\")\r\n",
    "\r\n",
    "        \r\n",
    "    "
   ],
   "outputs": [
    {
     "output_type": "stream",
     "name": "stdout",
     "text": [
      "Largest tidal range 7.3 occured on 2017-08-23\n",
      "Smallest tidal range 3.8 occured on 2017-08-31\n"
     ]
    }
   ],
   "metadata": {}
  },
  {
   "cell_type": "code",
   "execution_count": null,
   "source": [],
   "outputs": [],
   "metadata": {}
  }
 ],
 "metadata": {
  "orig_nbformat": 4,
  "language_info": {
   "name": "python",
   "version": "3.8.5",
   "mimetype": "text/x-python",
   "codemirror_mode": {
    "name": "ipython",
    "version": 3
   },
   "pygments_lexer": "ipython3",
   "nbconvert_exporter": "python",
   "file_extension": ".py"
  },
  "kernelspec": {
   "name": "python3",
   "display_name": "Python 3.8.5 64-bit ('base': conda)"
  },
  "interpreter": {
   "hash": "ed8c63d9f50fd6ab2650f6ee384e82ae7060c195befec11f29967f5c0c0d94c0"
  }
 },
 "nbformat": 4,
 "nbformat_minor": 2
}