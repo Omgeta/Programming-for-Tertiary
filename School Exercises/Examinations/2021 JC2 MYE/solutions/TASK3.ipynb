{
 "cells": [
  {
   "cell_type": "code",
   "execution_count": 16,
   "source": [
    "#Task 3.1\r\n",
    "def parseTemperatureCSV(filepath: str) -> list:\r\n",
    "    \"\"\"\r\n",
    "    Parse temperature data into a list of dictionaries\r\n",
    "    Params:\r\n",
    "        filepath (str) - Filepath of CSV file to read\r\n",
    "    Return:\r\n",
    "        res (list) - List containing temperature data\r\n",
    "    \"\"\"\r\n",
    "    res = []\r\n",
    "    with open(filepath, \"r\") as f:\r\n",
    "        lines = [line.rstrip(\"\\n\").split(\",\") for line in f]\r\n",
    "        headers = lines.pop(0)\r\n",
    "        for line in lines:\r\n",
    "            row = {}\r\n",
    "            row[\"year\"], row[\"month\"] = line[0].split(\"-\")\r\n",
    "            for i in range(1, len(headers)):\r\n",
    "                row[headers[i]] = float(line[i])\r\n",
    "            res.append(row)\r\n",
    "    return res\r\n",
    "    "
   ],
   "outputs": [],
   "metadata": {}
  },
  {
   "cell_type": "code",
   "execution_count": 17,
   "source": [
    "t_data = parseTemperatureCSV(\"../surface_air_temperature.csv\")"
   ],
   "outputs": [],
   "metadata": {}
  },
  {
   "cell_type": "code",
   "execution_count": 27,
   "source": [
    "# lowest daily min for each year\r\n",
    "# highest daily max for each year\r\n",
    "# print year, lowest min, highest max\r\n",
    "yearly_data = {}\r\n",
    "for entry in t_data:\r\n",
    "    curr_year = entry[\"year\"]\r\n",
    "    curr_daily_min =  entry[\"temp_mean_daily_min\"]\r\n",
    "    curr_daily_max = entry[\"temp_mean_daily_max\"]\r\n",
    "    \r\n",
    "    yearly_data[curr_year] = yearly_data.get(curr_year, {\r\n",
    "        \"lowest_daily_min\": 1e99, \r\n",
    "        \"highest_daily_max\": 0\r\n",
    "    }) #default case\r\n",
    "    if curr_daily_min < yearly_data[curr_year][\"lowest_daily_min\"]:\r\n",
    "        yearly_data[curr_year][\"lowest_daily_min\"] = curr_daily_min\r\n",
    "    if curr_daily_max > yearly_data[curr_year][\"highest_daily_max\"]:\r\n",
    "        yearly_data[curr_year][\"highest_daily_max\"] = curr_daily_max"
   ],
   "outputs": [],
   "metadata": {}
  },
  {
   "cell_type": "code",
   "execution_count": 29,
   "source": [
    "    for year, data in yearly_data.items():\r\n",
    "        print(f\"Year {year}: Lowest daily minimum: {data['lowest_daily_min']}, Highest daily maximum: {data['highest_daily_max']}\")\r\n",
    "    "
   ],
   "outputs": [
    {
     "output_type": "stream",
     "name": "stdout",
     "text": [
      "Year 1982: Lowest daily minimum: 23.3, Highest daily maximum: 32.4\n",
      "Year 1983: Lowest daily minimum: 23.3, Highest daily maximum: 34.4\n",
      "Year 1984: Lowest daily minimum: 22.9, Highest daily maximum: 31.6\n",
      "Year 1985: Lowest daily minimum: 23.6, Highest daily maximum: 32.2\n",
      "Year 1986: Lowest daily minimum: 23.4, Highest daily maximum: 31.9\n",
      "Year 1987: Lowest daily minimum: 23.4, Highest daily maximum: 32.6\n",
      "Year 1988: Lowest daily minimum: 23.7, Highest daily maximum: 32.4\n",
      "Year 1989: Lowest daily minimum: 23.7, Highest daily maximum: 31.8\n",
      "Year 1990: Lowest daily minimum: 23.7, Highest daily maximum: 33.4\n",
      "Year 1991: Lowest daily minimum: 23.4, Highest daily maximum: 32.4\n",
      "Year 1992: Lowest daily minimum: 23.4, Highest daily maximum: 33.0\n",
      "Year 1993: Lowest daily minimum: 23.8, Highest daily maximum: 32.1\n",
      "Year 1994: Lowest daily minimum: 24.0, Highest daily maximum: 32.1\n",
      "Year 1995: Lowest daily minimum: 23.9, Highest daily maximum: 32.7\n",
      "Year 1996: Lowest daily minimum: 23.4, Highest daily maximum: 32.4\n",
      "Year 1997: Lowest daily minimum: 24.0, Highest daily maximum: 33.6\n",
      "Year 1998: Lowest daily minimum: 24.2, Highest daily maximum: 34.1\n",
      "Year 1999: Lowest daily minimum: 24.1, Highest daily maximum: 32.5\n",
      "Year 2000: Lowest daily minimum: 23.8, Highest daily maximum: 32.7\n",
      "Year 2001: Lowest daily minimum: 24.0, Highest daily maximum: 32.2\n",
      "Year 2002: Lowest daily minimum: 24.5, Highest daily maximum: 33.0\n",
      "Year 2003: Lowest daily minimum: 24.3, Highest daily maximum: 32.7\n",
      "Year 2004: Lowest daily minimum: 24.2, Highest daily maximum: 33.3\n",
      "Year 2005: Lowest daily minimum: 23.9, Highest daily maximum: 33.4\n",
      "Year 2006: Lowest daily minimum: 24.1, Highest daily maximum: 33.1\n",
      "Year 2007: Lowest daily minimum: 24.0, Highest daily maximum: 32.1\n",
      "Year 2008: Lowest daily minimum: 24.0, Highest daily maximum: 32.2\n",
      "Year 2009: Lowest daily minimum: 24.1, Highest daily maximum: 32.6\n",
      "Year 2010: Lowest daily minimum: 23.9, Highest daily maximum: 33.5\n",
      "Year 2011: Lowest daily minimum: 23.5, Highest daily maximum: 32.4\n",
      "Year 2012: Lowest daily minimum: 24.3, Highest daily maximum: 31.7\n",
      "Year 2013: Lowest daily minimum: 24.1, Highest daily maximum: 32.6\n",
      "Year 2014: Lowest daily minimum: 24.0, Highest daily maximum: 32.8\n",
      "Year 2015: Lowest daily minimum: 24.4, Highest daily maximum: 33.2\n",
      "Year 2016: Lowest daily minimum: 24.7, Highest daily maximum: 33.4\n",
      "Year 2017: Lowest daily minimum: 24.6, Highest daily maximum: 31.8\n",
      "Year 2018: Lowest daily minimum: 24.0, Highest daily maximum: 33.2\n",
      "Year 2019: Lowest daily minimum: 24.6, Highest daily maximum: 33.5\n",
      "Year 2020: Lowest daily minimum: 24.5, Highest daily maximum: 33.0\n",
      "Year 2021: Lowest daily minimum: 23.8, Highest daily maximum: 32.8\n"
     ]
    }
   ],
   "metadata": {
    "scrolled": true
   }
  },
  {
   "cell_type": "code",
   "execution_count": 32,
   "source": [
    "#Task 3.2\n",
    "yearly_data = {}\n",
    "for entry in t_data:\n",
    "    curr_year = entry[\"year\"]\n",
    "    curr_month = int(entry[\"month\"])\n",
    "    curr_daily_min =  entry[\"temp_mean_daily_min\"]\n",
    "    curr_daily_max = entry[\"temp_mean_daily_max\"]\n",
    "    curr_range = curr_daily_max - curr_daily_min\n",
    "    \n",
    "    yearly_data[curr_year] = yearly_data.get(curr_year, {\n",
    "        \"lowest_daily_min\": (1e99, None), # (value, month)\n",
    "        \"highest_daily_max\": (0, None), \n",
    "        \"largest_range\": (0, None)\n",
    "    }) #default case\n",
    "    if curr_daily_min < yearly_data[curr_year][\"lowest_daily_min\"][0]:\n",
    "        yearly_data[curr_year][\"lowest_daily_min\"] = (curr_daily_min, curr_month)\n",
    "    if curr_daily_max > yearly_data[curr_year][\"highest_daily_max\"][0]:\n",
    "        yearly_data[curr_year][\"highest_daily_max\"] = (curr_daily_max, curr_month)\n",
    "    if curr_range > yearly_data[curr_year][\"largest_range\"][0]:\n",
    "        yearly_data[curr_year][\"largest_range\"] = (curr_range, curr_month)"
   ],
   "outputs": [],
   "metadata": {}
  },
  {
   "cell_type": "code",
   "execution_count": 33,
   "source": [
    "for year, data in yearly_data.items():\n",
    "    lowest, lowest_month = data[\"lowest_daily_min\"]\n",
    "    highest, highest_month = data[\"highest_daily_max\"]\n",
    "    largest, largest_month = data[\"largest_range\"]\n",
    "    print(f\"Year {year}: Lowest minimum: {lowest} (Month {lowest_month}), Highest maximum: {highest} (Month {highest_month}), Largest range: {largest} (Month {largest_month})\")\n",
    "    "
   ],
   "outputs": [
    {
     "output_type": "stream",
     "name": "stdout",
     "text": [
      "Year 1982: Lowest minimum: 23.3 (Month 1), Highest maximum: 32.4 (Month 11), Largest range: 8.399999999999999 (Month 2)\n",
      "Year 1983: Lowest minimum: 23.3 (Month 12), Highest maximum: 34.4 (Month 3), Largest range: 9.0 (Month 3)\n",
      "Year 1984: Lowest minimum: 22.9 (Month 1), Highest maximum: 31.6 (Month 10), Largest range: 7.300000000000001 (Month 10)\n",
      "Year 1985: Lowest minimum: 23.6 (Month 1), Highest maximum: 32.2 (Month 4), Largest range: 8.0 (Month 2)\n",
      "Year 1986: Lowest minimum: 23.4 (Month 1), Highest maximum: 31.9 (Month 2), Largest range: 8.0 (Month 2)\n",
      "Year 1987: Lowest minimum: 23.4 (Month 1), Highest maximum: 32.6 (Month 4), Largest range: 7.900000000000002 (Month 2)\n",
      "Year 1988: Lowest minimum: 23.7 (Month 11), Highest maximum: 32.4 (Month 4), Largest range: 7.399999999999999 (Month 2)\n",
      "Year 1989: Lowest minimum: 23.7 (Month 2), Highest maximum: 31.8 (Month 2), Largest range: 8.100000000000001 (Month 2)\n",
      "Year 1990: Lowest minimum: 23.7 (Month 1), Highest maximum: 33.4 (Month 4), Largest range: 8.299999999999997 (Month 3)\n",
      "Year 1991: Lowest minimum: 23.4 (Month 12), Highest maximum: 32.4 (Month 3), Largest range: 7.699999999999999 (Month 2)\n",
      "Year 1992: Lowest minimum: 23.4 (Month 12), Highest maximum: 33.0 (Month 3), Largest range: 8.0 (Month 3)\n",
      "Year 1993: Lowest minimum: 23.8 (Month 1), Highest maximum: 32.1 (Month 8), Largest range: 7.599999999999998 (Month 2)\n",
      "Year 1994: Lowest minimum: 24.0 (Month 2), Highest maximum: 32.1 (Month 10), Largest range: 7.600000000000001 (Month 2)\n",
      "Year 1995: Lowest minimum: 23.9 (Month 2), Highest maximum: 32.7 (Month 6), Largest range: 7.300000000000001 (Month 10)\n",
      "Year 1996: Lowest minimum: 23.4 (Month 1), Highest maximum: 32.4 (Month 3), Largest range: 7.899999999999999 (Month 3)\n",
      "Year 1997: Lowest minimum: 24.0 (Month 1), Highest maximum: 33.6 (Month 5), Largest range: 7.899999999999999 (Month 3)\n",
      "Year 1998: Lowest minimum: 24.2 (Month 12), Highest maximum: 34.1 (Month 3), Largest range: 7.800000000000001 (Month 3)\n",
      "Year 1999: Lowest minimum: 24.1 (Month 12), Highest maximum: 32.5 (Month 4), Largest range: 7.100000000000001 (Month 3)\n",
      "Year 2000: Lowest minimum: 23.8 (Month 2), Highest maximum: 32.7 (Month 5), Largest range: 7.599999999999998 (Month 3)\n",
      "Year 2001: Lowest minimum: 24.0 (Month 1), Highest maximum: 32.2 (Month 5), Largest range: 7.600000000000001 (Month 3)\n",
      "Year 2002: Lowest minimum: 24.5 (Month 1), Highest maximum: 33.0 (Month 3), Largest range: 7.899999999999999 (Month 3)\n",
      "Year 2003: Lowest minimum: 24.3 (Month 12), Highest maximum: 32.7 (Month 5), Largest range: 7.099999999999998 (Month 3)\n",
      "Year 2004: Lowest minimum: 24.2 (Month 1), Highest maximum: 33.3 (Month 4), Largest range: 7.5000000000000036 (Month 3)\n",
      "Year 2005: Lowest minimum: 23.9 (Month 1), Highest maximum: 33.4 (Month 2), Largest range: 8.099999999999998 (Month 2)\n",
      "Year 2006: Lowest minimum: 24.1 (Month 1), Highest maximum: 33.1 (Month 3), Largest range: 7.900000000000002 (Month 3)\n",
      "Year 2007: Lowest minimum: 24.0 (Month 11), Highest maximum: 32.1 (Month 6), Largest range: 7.0 (Month 2)\n",
      "Year 2008: Lowest minimum: 24.0 (Month 2), Highest maximum: 32.2 (Month 5), Largest range: 6.899999999999999 (Month 2)\n",
      "Year 2009: Lowest minimum: 24.1 (Month 3), Highest maximum: 32.6 (Month 6), Largest range: 8.099999999999998 (Month 2)\n",
      "Year 2010: Lowest minimum: 23.9 (Month 12), Highest maximum: 33.5 (Month 2), Largest range: 8.0 (Month 2)\n",
      "Year 2011: Lowest minimum: 23.5 (Month 1), Highest maximum: 32.4 (Month 5), Largest range: 7.599999999999998 (Month 2)\n",
      "Year 2012: Lowest minimum: 24.3 (Month 1), Highest maximum: 31.7 (Month 5), Largest range: 6.899999999999999 (Month 5)\n",
      "Year 2013: Lowest minimum: 24.1 (Month 12), Highest maximum: 32.6 (Month 6), Largest range: 6.800000000000001 (Month 4)\n",
      "Year 2014: Lowest minimum: 24.0 (Month 1), Highest maximum: 32.8 (Month 3), Largest range: 7.699999999999996 (Month 3)\n",
      "Year 2015: Lowest minimum: 24.4 (Month 2), Highest maximum: 33.2 (Month 4), Largest range: 7.300000000000004 (Month 4)\n",
      "Year 2016: Lowest minimum: 24.7 (Month 12), Highest maximum: 33.4 (Month 4), Largest range: 6.900000000000002 (Month 10)\n",
      "Year 2017: Lowest minimum: 24.6 (Month 11), Highest maximum: 31.8 (Month 4), Largest range: 6.800000000000001 (Month 4)\n",
      "Year 2018: Lowest minimum: 24.0 (Month 1), Highest maximum: 33.2 (Month 4), Largest range: 7.400000000000002 (Month 4)\n",
      "Year 2019: Lowest minimum: 24.6 (Month 12), Highest maximum: 33.5 (Month 3), Largest range: 7.899999999999999 (Month 3)\n",
      "Year 2020: Lowest minimum: 24.5 (Month 12), Highest maximum: 33.0 (Month 4), Largest range: 7.0 (Month 3)\n",
      "Year 2021: Lowest minimum: 23.8 (Month 1), Highest maximum: 32.8 (Month 3), Largest range: 7.799999999999997 (Month 3)\n"
     ]
    }
   ],
   "metadata": {
    "scrolled": true
   }
  },
  {
   "cell_type": "code",
   "execution_count": 42,
   "source": [
    "#Task 3.3\n",
    "monthly_data = {}\n",
    "for entry in t_data:\n",
    "    curr_month = entry[\"month\"]\n",
    "    curr_daily_min =  entry[\"temp_mean_daily_min\"]\n",
    "    curr_daily_max = entry[\"temp_mean_daily_max\"]\n",
    "    monthly_data[curr_month] = monthly_data.get(curr_month, {\n",
    "        \"min\": [],\n",
    "        \"max\": []\n",
    "    })\n",
    "    \n",
    "    monthly_data[curr_month][\"min\"].append(curr_daily_min)\n",
    "    monthly_data[curr_month][\"max\"].append(curr_daily_max)\n",
    "    \n",
    "def average(arr: list):\n",
    "    return sum(arr) // len(arr)\n",
    "\n",
    "data_2020 = [x for x in t_data if x[\"year\"] == \"2020\"]\n",
    "for entry in data_2020:\n",
    "    curr_month = entry[\"month\"]\n",
    "    curr_min = entry[\"temp_mean_daily_min\"]\n",
    "    curr_max = entry[\"temp_mean_daily_max\"]\n",
    "    avg_min = average(monthly_data[curr_month][\"min\"])\n",
    "    avg_max = average(monthly_data[curr_month][\"max\"])\n",
    "    print(f\"Month {curr_month.lstrip('0')}: average daily min 1982-2020 was {avg_min}, deviation in 2020 was {curr_min - avg_min} deg C.\")\n",
    "    print(f\"Month {curr_month.lstrip('0')}: average daily min 1982-2020 was {avg_max}, deviation in 2020 was {curr_max - avg_max} deg C.\")\n",
    "    "
   ],
   "outputs": [
    {
     "output_type": "stream",
     "name": "stdout",
     "text": [
      "Month 1: average daily min 1982-2020 was 24.0, deviation in 2020 was 1.1999999999999993 deg C.\n",
      "Month 1: average daily min 1982-2020 was 30.0, deviation in 2020 was 1.6999999999999993 deg C.\n",
      "Month 2: average daily min 1982-2020 was 24.0, deviation in 2020 was 1.3000000000000007 deg C.\n",
      "Month 2: average daily min 1982-2020 was 31.0, deviation in 2020 was 0.6999999999999993 deg C.\n",
      "Month 3: average daily min 1982-2020 was 24.0, deviation in 2020 was 1.8999999999999986 deg C.\n",
      "Month 3: average daily min 1982-2020 was 32.0, deviation in 2020 was 0.8999999999999986 deg C.\n",
      "Month 4: average daily min 1982-2020 was 25.0, deviation in 2020 was 1.0 deg C.\n",
      "Month 4: average daily min 1982-2020 was 32.0, deviation in 2020 was 1.0 deg C.\n",
      "Month 5: average daily min 1982-2020 was 25.0, deviation in 2020 was 1.1000000000000014 deg C.\n",
      "Month 5: average daily min 1982-2020 was 32.0, deviation in 2020 was 0.20000000000000284 deg C.\n",
      "Month 6: average daily min 1982-2020 was 25.0, deviation in 2020 was 0.5 deg C.\n",
      "Month 6: average daily min 1982-2020 was 31.0, deviation in 2020 was 0.0 deg C.\n",
      "Month 7: average daily min 1982-2020 was 25.0, deviation in 2020 was 0.5 deg C.\n",
      "Month 7: average daily min 1982-2020 was 31.0, deviation in 2020 was 0.0 deg C.\n",
      "Month 8: average daily min 1982-2020 was 25.0, deviation in 2020 was 0.8999999999999986 deg C.\n",
      "Month 8: average daily min 1982-2020 was 31.0, deviation in 2020 was 0.3999999999999986 deg C.\n",
      "Month 9: average daily min 1982-2020 was 24.0, deviation in 2020 was 0.8999999999999986 deg C.\n",
      "Month 9: average daily min 1982-2020 was 31.0, deviation in 2020 was 0.0 deg C.\n",
      "Month 10: average daily min 1982-2020 was 24.0, deviation in 2020 was 1.6000000000000014 deg C.\n",
      "Month 10: average daily min 1982-2020 was 31.0, deviation in 2020 was 0.6000000000000014 deg C.\n",
      "Month 11: average daily min 1982-2020 was 24.0, deviation in 2020 was 1.0 deg C.\n",
      "Month 11: average daily min 1982-2020 was 31.0, deviation in 2020 was 0.0 deg C.\n",
      "Month 12: average daily min 1982-2020 was 24.0, deviation in 2020 was 0.5 deg C.\n",
      "Month 12: average daily min 1982-2020 was 30.0, deviation in 2020 was 1.5 deg C.\n"
     ]
    }
   ],
   "metadata": {}
  }
 ],
 "metadata": {
  "kernelspec": {
   "display_name": "Python 3",
   "language": "python",
   "name": "python3"
  },
  "language_info": {
   "codemirror_mode": {
    "name": "ipython",
    "version": 3
   },
   "file_extension": ".py",
   "mimetype": "text/x-python",
   "name": "python",
   "nbconvert_exporter": "python",
   "pygments_lexer": "ipython3",
   "version": "3.6.4"
  }
 },
 "nbformat": 4,
 "nbformat_minor": 2
}