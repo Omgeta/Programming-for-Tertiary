{
 "cells": [
  {
   "cell_type": "markdown",
   "metadata": {},
   "source": [
    "# Introduction to Python sockets\n",
    "\n",
    "Sockets are a communication link between two different endpoints.\n",
    "\n",
    "In networks, each endpoint is usually an address (specified at the Transport and Internet layer).\n",
    "\n",
    "In a client-server architecture, these sockets have to be managed by the client and server software.\n",
    "\n",
    "The software usually cannot create a socket by itself; it has to request one through the operating system."
   ]
  },
  {
   "cell_type": "markdown",
   "metadata": {},
   "source": [
    "# Using sockets in Python\n",
    "\n",
    "In Python, the `socket` module provides functions for managing sockets.\n",
    "\n",
    "Let’s create a simple socket:"
   ]
  },
  {
   "cell_type": "code",
   "execution_count": null,
   "metadata": {},
   "outputs": [],
   "source": [
    "import socket\n",
    "\n",
    "# Let's create an unbound socket\n",
    "# The socket() function requires two arguments:\n",
    "# 1. the address family\n",
    "#    ('AF_INET' for IPv4 or 'AF_INET6' forIPv6)\n",
    "# 2. the socket type\n",
    "#    ('SOCK_STREAM' for TCP or 'SOCK_DGRAM' for UDP)\n",
    "s = socket.socket(\n",
    "    socket.AF_INET,     # address family: IPv4\n",
    "    socket.SOCK_STREAM, # socket type: TCP\n",
    ")\n",
    "\n",
    "# sockets must be closed after use\n",
    "s.close()"
   ]
  },
  {
   "cell_type": "markdown",
   "metadata": {},
   "source": [
    "This gives us a socket, one end of which is used by Python.\n",
    "\n",
    "This socket doesn’t do anything yet.\n",
    "\n",
    "For it to work, we have to do something with the other end.\n",
    "\n",
    "For a *server* (not covered in this lesson), we have to **bind** the other end to another hostname for listening.\n",
    "\n",
    "For a *client*, we have to **connect** the other end to another address.\n",
    "\n",
    "## IPv4 socket addresses\n",
    "\n",
    "An address specifies a destination that data will be sent to, and which a response will be received from.\n",
    "\n",
    "For an IPv4 connection, this is specified by a hostname and a port number, as a 2-element tuple."
   ]
  },
  {
   "cell_type": "code",
   "execution_count": null,
   "metadata": {},
   "outputs": [],
   "source": [
    "# The hostname can be a domain or IP address.\n",
    "# Here, we are connecting to a server running on the same computer\n",
    "# (Make sure server.py is running first)\n",
    "HOST = '127.0.0.1'\n",
    "\n",
    "# Only non-reserved ports (49152-65535) should be used\n",
    "# for nonstandard protocols used in custom apps\n",
    "PORT = 65535\n",
    "\n",
    "ADDR = (HOST, PORT)"
   ]
  },
  {
   "cell_type": "markdown",
   "metadata": {},
   "source": [
    "## Securing sockets\n",
    "\n",
    "Unclosed sockets are a security vulnerability; other software/users that know the address can attempt to send data to it!\n",
    "\n",
    "If a socket is opened, and not properly closed (e.g. if the program crashes), it remains active and available for data transfer.\n",
    "\n",
    "A safe way to ensure that sockets are always closed properly is to establish them using the `with` keyword (similar to file IO):"
   ]
  },
  {
   "cell_type": "code",
   "execution_count": null,
   "metadata": {},
   "outputs": [],
   "source": [
    "with socket.socket(socket.AF_INET, socket.SOCK_STREAM) as s:\n",
    "    s.connect(ADDR)\n",
    "    print(f\"Connection to {ADDR} is open!\")\n",
    "print(f\"Connection to {ADDR} is closed.\")"
   ]
  },
  {
   "cell_type": "markdown",
   "metadata": {},
   "source": [
    "## Sending a request\n",
    "\n",
    "In a client-server model, the client always initiates the request. Thus, after you connect to the server, nothing happens until the client sends a request.\n",
    "\n",
    "When the client is sending data to the server, the server has no way of knowing when the data has been completely sent. The client may have crashed halfway, or the connection may have been temporarily interrupted during sending.\n",
    "\n",
    "The only way to know for sure is to establish a communication protocol beforehand (this forms the Application layer).\n",
    "\n",
    "A common protocol is to include the length of the message at the start (e.g. in the first 1-2 bytes), so that the server can read it and know how much more data to expect.\n",
    "\n",
    "Here, we will simply assume that each data packet is no more than 1024 bytes.\n",
    "\n",
    "Let’s send some data to the server. We do so using the `send()` method of the *socket object*."
   ]
  },
  {
   "cell_type": "code",
   "execution_count": null,
   "metadata": {},
   "outputs": [],
   "source": [
    "with socket.socket(socket.AF_INET, socket.SOCK_STREAM) as s:\n",
    "    s.connect(ADDR)\n",
    "    s.send('hi')"
   ]
  },
  {
   "cell_type": "markdown",
   "metadata": {},
   "source": [
    "`TypeError: a bytes-like object is required, not 'str'`\n",
    "\n",
    "This happens because a socket only sends bytes. Other data types—`int`, `str`, `float`, etc—must be converted to `bytes` ([another data type in Python](https://docs.python.org/3.6/c-api/bytes.html)) before they can be passed to `send()`.\n",
    "\n",
    "Fortunately, `str`-type objects have a built-in method to do so.\n",
    "\n",
    "Calling the `str.encode()` method returns a value as `bytes`. By default, the `str` is assumed to be encoded in `utf-8` encoding unless otherwise specified."
   ]
  },
  {
   "cell_type": "code",
   "execution_count": null,
   "metadata": {},
   "outputs": [],
   "source": [
    "with socket.socket(socket.AF_INET, socket.SOCK_STREAM) as s:\n",
    "    s.connect(ADDR)\n",
    "    s.send('hi'.encode())"
   ]
  },
  {
   "cell_type": "markdown",
   "metadata": {},
   "source": [
    "## Receiving a response\n",
    "\n",
    "Hmm ... nothing happened.\n",
    "\n",
    "Actually, the server should have returned a response (if it up and running). But we have to *receive* the data from the socket to know what the response is.\n",
    "\n",
    "We do so using the `recv()` method of the socket object. This method requires you to specify how many bytes to read from the received data."
   ]
  },
  {
   "cell_type": "code",
   "execution_count": null,
   "metadata": {},
   "outputs": [],
   "source": [
    "with socket.socket(socket.AF_INET, socket.SOCK_STREAM) as s:\n",
    "    s.connect(ADDR)\n",
    "    s.send('hi'.encode())\n",
    "    data = s.recv(1024)  # Read up to 1024 bytes from the response\n",
    "    print(data)"
   ]
  },
  {
   "cell_type": "markdown",
   "metadata": {},
   "source": [
    "`server.py` is a simple server that just echoes back the data you sent to it, so it is easy to tell if you have done it correctly; you should see the same data returned!\n",
    "\n",
    "## `bytes` data type\n",
    "\n",
    "Notice that the response is not `'hi'`, but `b'hi'`.\n",
    "\n",
    "The `b` in front indicates that this value is a `bytes` object, not a `str` object:"
   ]
  },
  {
   "cell_type": "code",
   "execution_count": null,
   "metadata": {},
   "outputs": [],
   "source": [
    "type(data)"
   ]
  },
  {
   "cell_type": "markdown",
   "metadata": {},
   "source": [
    "Before we can concatenate it to other strings or use string methods on it, we have to convert it to a `str` object first.\n",
    "\n",
    "`bytes`-type objects have a built-in method, `decode()`, to do so. This will return a `utf-8`-encoded `str` unless a different encoding is specified."
   ]
  },
  {
   "cell_type": "code",
   "execution_count": null,
   "metadata": {},
   "outputs": [],
   "source": [
    "str_data = data.decode()\n",
    "print(str_data)"
   ]
  },
  {
   "cell_type": "markdown",
   "metadata": {},
   "source": [
    "We have successfully sent a request to a server, and read its response!"
   ]
  },
  {
   "cell_type": "markdown",
   "metadata": {},
   "source": [
    "# A request-response loop\n",
    "\n",
    "Our program only completed one request-response loop before terminating.\n",
    "\n",
    "In practical applications, the request-response loop often needs to happen multiple times. This means we usually need to do so in a `while` loop, until a terminating condition is met.\n",
    "\n",
    "Here is what a full program that sends requests and receives responses in a loop might look like:"
   ]
  },
  {
   "cell_type": "code",
   "execution_count": null,
   "metadata": {},
   "outputs": [],
   "source": [
    "import socket\n",
    "\n",
    "ADDR = ('127.0.0.1', 65535)\n",
    "\n",
    "exit = False\n",
    "while not exit:\n",
    "    with socket.socket(socket.AF_INET, socket.SOCK_STREAM) as s:\n",
    "        s.connect(ADDR)\n",
    "        msg = input(\"Say something ('exit' to quit): \")\n",
    "        s.send(msg.encode())\n",
    "        if msg == 'exit':\n",
    "            exit = True\n",
    "        else:\n",
    "            resp = s.recv(1024)\n",
    "            print(\"Response:\", resp.decode())"
   ]
  },
  {
   "cell_type": "markdown",
   "metadata": {},
   "source": [
    "# Sustained connections\n",
    "\n",
    "In the above example, each iteration of the loop opens a new connection before sending data.\n",
    "\n",
    "This is acceptable for loops that don’t repeat too quickly. Requesting a new connection takes time and OS resources, and doing it too often can lead to system slowdown.\n",
    "\n",
    "In cases where requests need to be sent and responses received very frequently, the socket may be left open (i.e. `while` loop occurs within the `with` statement) while data exchange is going on, and only closed after all data exchange is complete.\n",
    "\n",
    "However, note that this will take up resources on the server, which has to keep the connection open. Most computer OSes are configured with an upper limit of 128 concurrent connections at any point (unless this setting is overridden).\n",
    "\n",
    "It is considered polite to close a connection and free up this resource when the client no longer needs it."
   ]
  }
 ],
 "metadata": {
  "kernelspec": {
   "display_name": "Python 3",
   "language": "python",
   "name": "python3"
  },
  "language_info": {
   "codemirror_mode": {
    "name": "ipython",
    "version": 3
   },
   "file_extension": ".py",
   "mimetype": "text/x-python",
   "name": "python",
   "nbconvert_exporter": "python",
   "pygments_lexer": "ipython3",
   "version": "3.9.2"
  }
 },
 "nbformat": 4,
 "nbformat_minor": 4
}
