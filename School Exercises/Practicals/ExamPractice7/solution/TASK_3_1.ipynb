{
 "cells": [
  {
   "cell_type": "code",
   "execution_count": 2,
   "metadata": {},
   "outputs": [],
   "source": [
    "class Item:\r\n",
    "    def __init__(self, name: str, type_: str, purchase_price: float, selling_price: float, quantity: int):\r\n",
    "        self.name = name\r\n",
    "        self.type = type_\r\n",
    "        self.purchase_price = purchase_price\r\n",
    "        self.selling_price = selling_price\r\n",
    "        self.quantity = quantity"
   ]
  },
  {
   "cell_type": "code",
   "execution_count": 7,
   "metadata": {},
   "outputs": [],
   "source": [
    "class Inventory:\r\n",
    "    def __init__(self):\r\n",
    "        self.data = []\r\n",
    "\r\n",
    "    def __repr__(self):\r\n",
    "        return f\"{[f'Item({item.name}, {item.type}, {item.purchase_price}, {item.selling_price}, {item.quantity})' for item in self.data]}\"\r\n",
    "\r\n",
    "    def loadCSV(self, filepath: str):\r\n",
    "        '''\r\n",
    "        Loads CSV inventory data into the instance variable\r\n",
    "        Params:\r\n",
    "            filepath (str) - Filepath of inputted CSV file \r\n",
    "        '''\r\n",
    "        with open(filepath, \"r\") as f:\r\n",
    "            for line in f:\r\n",
    "                data = line.strip(\"\\n\").split(\"\\t\")\r\n",
    "                data[2] = float(data[2])\r\n",
    "                data[3] = float(data[3])\r\n",
    "                data[4] = int(data[4])\r\n",
    "                self.data.append(Item(*data))\r\n",
    "\r\n",
    "    def getTypes(self) -> set:\r\n",
    "        '''\r\n",
    "        Get all the unique item types in the Inventory instance\r\n",
    "        Returns:\r\n",
    "            types (set) - Set of unique item types\r\n",
    "        '''\r\n",
    "        types = set()\r\n",
    "        for item in self.data:\r\n",
    "            types.add(item.type)\r\n",
    "        return types\r\n",
    "\r\n",
    "    def getTypeCount(self, type_: str) -> int:\r\n",
    "        '''\r\n",
    "        Get type count for a given type\r\n",
    "        Param:\r\n",
    "            type (str) - Type to get count of\r\n",
    "        Returns:\r\n",
    "            count (int) - Number of total items\r\n",
    "        '''\r\n",
    "        count = 0\r\n",
    "        for item in self.data:\r\n",
    "            if type_ == item.type:\r\n",
    "                count += 1\r\n",
    "        return count"
   ]
  },
  {
   "cell_type": "code",
   "execution_count": 8,
   "metadata": {},
   "outputs": [
    {
     "name": "stdout",
     "output_type": "stream",
     "text": [
      "Laptop\n",
      "Phone\n"
     ]
    }
   ],
   "source": [
    "# Task 3.1\r\n",
    "inv = Inventory()\r\n",
    "inv.loadCSV(\"../INVENTORY.txt\")\r\n",
    "\r\n",
    "types = inv.getTypes()\r\n",
    "TypeCount = {}\r\n",
    "for type_ in types:\r\n",
    "    TypeCount[type_] = inv.getTypeCount(type_)\r\n",
    "\r\n",
    "max_count = 0\r\n",
    "largest_types = []\r\n",
    "for type_, count in TypeCount.items():\r\n",
    "    if count > max_count:\r\n",
    "        max_count = count\r\n",
    "        largest_types = [type_]\r\n",
    "    elif count == max_count:\r\n",
    "        largest_types.append(type_)\r\n",
    "\r\n",
    "for large_type in largest_types:\r\n",
    "    print(large_type)"
   ]
  },
  {
   "cell_type": "code",
   "execution_count": null,
   "metadata": {},
   "outputs": [],
   "source": []
  }
 ],
 "metadata": {
  "interpreter": {
   "hash": "ed8c63d9f50fd6ab2650f6ee384e82ae7060c195befec11f29967f5c0c0d94c0"
  },
  "kernelspec": {
   "display_name": "Python 3.8.5 64-bit ('base': conda)",
   "name": "python3"
  },
  "language_info": {
   "name": "python",
   "version": ""
  },
  "orig_nbformat": 4
 },
 "nbformat": 4,
 "nbformat_minor": 2
}