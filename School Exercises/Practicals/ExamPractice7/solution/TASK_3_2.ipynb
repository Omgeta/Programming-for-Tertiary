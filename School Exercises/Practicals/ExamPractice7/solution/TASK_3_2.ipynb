{
 "cells": [
  {
   "cell_type": "code",
   "execution_count": 15,
   "metadata": {},
   "outputs": [],
   "source": [
    "class Item:\r\n",
    "    def __init__(self, name: str, type_: str, purchase_price: float, selling_price: float, quantity: int):\r\n",
    "        self.name = name\r\n",
    "        self.type = type_\r\n",
    "        self.purchase_price = purchase_price\r\n",
    "        self.selling_price = selling_price\r\n",
    "        self.quantity = quantity\r\n",
    "\r\n",
    "    def __repr__(self):\r\n",
    "        return f'Item({self.name}, {self.type}, {self.purchase_price}, {self.selling_price}, {self.quantity})'\r\n",
    "\r\n",
    "    def profitMargin(self):\r\n",
    "        return self.selling_price - self.purchase_price\r\n",
    "\r\n",
    "    def totalProfit(self):\r\n",
    "        return self.profitMargin() * self.quantity"
   ]
  },
  {
   "cell_type": "code",
   "execution_count": 16,
   "metadata": {},
   "outputs": [],
   "source": [
    "class Inventory:\r\n",
    "    def __init__(self):\r\n",
    "        self.data = []\r\n",
    "\r\n",
    "    def __repr__(self):\r\n",
    "        return f\"{[repr(item) for item in self.data]}\"\r\n",
    "\r\n",
    "    def loadCSV(self, filepath: str):\r\n",
    "        '''\r\n",
    "        Loads CSV inventory data into the instance variable\r\n",
    "        Params:\r\n",
    "            filepath (str) - Filepath of inputted CSV file \r\n",
    "        '''\r\n",
    "        with open(filepath, \"r\") as f:\r\n",
    "            for line in f:\r\n",
    "                data = line.strip(\"\\n\").split(\"\\t\")\r\n",
    "                data[2] = float(data[2])\r\n",
    "                data[3] = float(data[3])\r\n",
    "                data[4] = int(data[4])\r\n",
    "                self.data.append(Item(*data))\r\n",
    "\r\n",
    "    def __len__(self):\r\n",
    "        return len(self.data)\r\n",
    "\r\n",
    "    def __getitem__(self, index):\r\n",
    "        return self.data[index]\r\n",
    "\r\n"
   ]
  },
  {
   "cell_type": "code",
   "execution_count": 23,
   "metadata": {},
   "outputs": [
    {
     "name": "stdout",
     "output_type": "stream",
     "text": [
      "Total Profit: 99748.74\n",
      "Product\tProduct Type\tProfit Margin\n",
      "Bapple 12\tPhone\t852.8499999999999\n",
      "Surface Elite 7\tLaptop\t813.0500000000001\n",
      "Surface Elite 5\tLaptop\t700.95\n",
      "Bapple 11\tPhone\t652.83\n",
      "ThinkerpadX 15\tLaptop\t600.8000000000001\n",
      "ThinkerpadX 13\tLaptop\t552.3000000000001\n",
      "Bapple 10\tPhone\t551.73\n",
      "Bapple 9\tPhone\t522.65\n",
      "Surface Elite 5\tLaptop\t500.95000000000005\n",
      "Bapple 8\tPhone\t454.45000000000005\n",
      "Universe Tab C\tTablet\t367.95000000000005\n",
      "Universe Tab B\tTablet\t350.95000000000005\n",
      "Universe Tab A\tTablet\t300.05000000000007\n",
      "Elink1 300\tRouter\t160.95\n",
      "Elink1 200\tRouter\t151.95\n",
      "Dnetwork 750\tRouter\t91.94999999999999\n",
      "Dnetwork 500\tRouter\t71.95\n"
     ]
    }
   ],
   "source": [
    "inv = Inventory()\r\n",
    "inv.loadCSV(\"../INVENTORY.txt\")\r\n",
    "\r\n",
    "total_profit = 0\r\n",
    "for i in range(len(inv)):\r\n",
    "    item = inv[i]\r\n",
    "    total_profit += item.totalProfit()\r\n",
    "print(f\"Total Profit: {total_profit}\")\r\n",
    "\r\n",
    "profit_margins = []\r\n",
    "for i in range(len(inv)):\r\n",
    "    item = inv[i]\r\n",
    "    profit_margins.append({\r\n",
    "        \"Product\": item.name,\r\n",
    "        \"Product Type\": item.type,\r\n",
    "        \"Profit Margin\": item.profitMargin()\r\n",
    "    })\r\n",
    "\r\n",
    "def merge(left, right):\r\n",
    "    res = []\r\n",
    "    while left and right:\r\n",
    "        e = right.pop(0) if left[0][\"Profit Margin\"] < right[0][\"Profit Margin\"] else left.pop(0)\r\n",
    "        res.append(e)\r\n",
    "    return res + left + right\r\n",
    "\r\n",
    "def mergeSort(arr):\r\n",
    "    if len(arr) > 1:\r\n",
    "        mid = len(arr) // 2\r\n",
    "        left, right = arr[:mid], arr[mid:]\r\n",
    "\r\n",
    "        left, right = mergeSort(left), mergeSort(right)\r\n",
    "        return merge(left, right)\r\n",
    "    else:\r\n",
    "        return arr\r\n",
    "\r\n",
    "sorted_profit_margins = mergeSort(profit_margins)\r\n",
    "print(\"Product\\tProduct Type\\tProfit Margin\")\r\n",
    "for item in sorted_profit_margins:\r\n",
    "    print(f\"{item['Product']}\\t{item['Product Type']}\\t{item['Profit Margin']}\")\r\n"
   ]
  },
  {
   "cell_type": "code",
   "execution_count": null,
   "metadata": {},
   "outputs": [],
   "source": []
  }
 ],
 "metadata": {
  "interpreter": {
   "hash": "e5bca1ef9a11ea6a0222f2e1d80f6b3d3b4e5f6dba3372faad9e2b87f9ff424d"
  },
  "kernelspec": {
   "display_name": "Python 3.9.1 64-bit",
   "name": "python3"
  },
  "language_info": {
   "codemirror_mode": {
    "name": "ipython",
    "version": 3
   },
   "file_extension": ".py",
   "mimetype": "text/x-python",
   "name": "python",
   "nbconvert_exporter": "python",
   "pygments_lexer": "ipython3",
   "version": "3.8.5"
  },
  "orig_nbformat": 4
 },
 "nbformat": 4,
 "nbformat_minor": 2
}