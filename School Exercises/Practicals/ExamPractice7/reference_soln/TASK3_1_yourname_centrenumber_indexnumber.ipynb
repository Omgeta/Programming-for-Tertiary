{
 "cells": [
  {
   "cell_type": "code",
   "execution_count": 5,
   "metadata": {
    "scrolled": true
   },
   "outputs": [],
   "source": [
    "# Task 3.1\n",
    "# Author: SAMPLE CODE\n",
    "# Date: 25/03/2021\n",
    "# version: 1\n",
    "\n",
    "import csv\n",
    "\n",
    "def read_data(filename):\n",
    "    data = []\n",
    "    with open(filename, 'r') as f:\n",
    "        for row in csv.reader(f, delimiter=\"\\t\"):\n",
    "            record = {}\n",
    "            headers = ['Name', 'Type', 'Purchase Price', 'Selling_Price', 'Quantity']\n",
    "            for i in range(5):\n",
    "                record[headers[i]] = row[i]\n",
    "            data.append(record)\n",
    "    return data"
   ]
  },
  {
   "cell_type": "code",
   "execution_count": 18,
   "metadata": {},
   "outputs": [
    {
     "name": "stdout",
     "output_type": "stream",
     "text": [
      "1302.55\n"
     ]
    }
   ],
   "source": [
    "data = read_data('INVENTORY.txt')\n",
    "\n",
    "sum_, count = 0, 0\n",
    "for record in data:\n",
    "    if record['Type'] == 'Laptop':\n",
    "        sum_ += float(record['Selling_Price'])\n",
    "        count += 1\n",
    "\n",
    "avg_selling_price = sum_ / count\n",
    "print(avg_selling_price)"
   ]
  },
  {
   "cell_type": "code",
   "execution_count": 20,
   "metadata": {},
   "outputs": [
    {
     "name": "stdout",
     "output_type": "stream",
     "text": [
      "Product type(s) with the greatest number of products:\n",
      "['Phone', 'Laptop'], 5 products\n"
     ]
    }
   ],
   "source": [
    "# I don't like this variable name, it does not follow PEP8 conventions\n",
    "TypeCount = {}\n",
    "for record in data:\n",
    "    if record['Type'] in TypeCount.keys():\n",
    "        TypeCount[record['Type']] += 1\n",
    "    else:\n",
    "        TypeCount[record['Type']] = 1\n",
    "\n",
    "greatest_num_product = []\n",
    "max_value = max(list(TypeCount.values()))\n",
    "for key, value in TypeCount.items():\n",
    "    if value == max_value:\n",
    "        greatest_num_product.append(key)\n",
    "\n",
    "print('Product type(s) with the greatest number of products:')\n",
    "print(f\"{greatest_num_product}, {max_value} products\")"
   ]
  }
 ],
 "metadata": {
  "kernelspec": {
   "display_name": "Python 3",
   "language": "python",
   "name": "python3"
  },
  "language_info": {
   "codemirror_mode": {
    "name": "ipython",
    "version": 3
   },
   "file_extension": ".py",
   "mimetype": "text/x-python",
   "name": "python",
   "nbconvert_exporter": "python",
   "pygments_lexer": "ipython3",
   "version": "3.6.4"
  }
 },
 "nbformat": 4,
 "nbformat_minor": 2
}
