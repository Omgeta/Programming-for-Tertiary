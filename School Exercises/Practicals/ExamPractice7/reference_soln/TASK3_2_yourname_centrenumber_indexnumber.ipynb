{
 "cells": [
  {
   "cell_type": "code",
   "execution_count": 2,
   "metadata": {
    "scrolled": true
   },
   "outputs": [],
   "source": [
    "# Task 3.2\n",
    "# Author: SAMPLE CODE\n",
    "# Date: 25/03/2021\n",
    "# version: 1\n",
    "\n",
    "import csv\n",
    "\n",
    "def read_data(filename):\n",
    "    data = []\n",
    "    with open(filename, 'r') as f:\n",
    "        for row in csv.reader(f, delimiter=\"\\t\"):\n",
    "            record = {}\n",
    "            headers = ['Name', 'Type', 'Purchase_Price', 'Selling_Price', 'Quantity']\n",
    "            for i in range(5):\n",
    "                record[headers[i]] = row[i]\n",
    "            data.append(record)\n",
    "    return data"
   ]
  },
  {
   "cell_type": "code",
   "execution_count": 3,
   "metadata": {},
   "outputs": [],
   "source": [
    "def calculate_profit_data(data):\n",
    "    profit_data = []\n",
    "    for rec in data:\n",
    "        new = {}  # Initialise a new object\n",
    "        new['Profit Margin'] = float(rec['Selling_Price']) - float(rec['Purchase_Price'])\n",
    "        new['Product'] = rec['Name']\n",
    "        new['Product Type'] = rec['Type']\n",
    "        profit_data.append(new)\n",
    "    return profit_data\n",
    "\n",
    "data = read_data('INVENTORY.txt')\n",
    "profit_data = calculate_profit_data(data)"
   ]
  },
  {
   "cell_type": "code",
   "execution_count": 5,
   "metadata": {},
   "outputs": [
    {
     "name": "stdout",
     "output_type": "stream",
     "text": [
      "[{'Profit Margin': 71.95, 'Product': 'Dnetwork 500', 'Product Type': 'Router'}, {'Profit Margin': 91.94999999999999, 'Product': 'Dnetwork 750', 'Product Type': 'Router'}, {'Profit Margin': 151.95, 'Product': 'Elink1 200', 'Product Type': 'Router'}, {'Profit Margin': 160.95, 'Product': 'Elink1 300', 'Product Type': 'Router'}, {'Profit Margin': 300.05000000000007, 'Product': 'Universe Tab A', 'Product Type': 'Tablet'}, {'Profit Margin': 350.95000000000005, 'Product': 'Universe Tab B', 'Product Type': 'Tablet'}, {'Profit Margin': 367.95000000000005, 'Product': 'Universe Tab C', 'Product Type': 'Tablet'}, {'Profit Margin': 454.45000000000005, 'Product': 'Bapple 8', 'Product Type': 'Phone'}, {'Profit Margin': 500.95000000000005, 'Product': 'Surface Elite 5', 'Product Type': 'Laptop'}, {'Profit Margin': 522.65, 'Product': 'Bapple 9', 'Product Type': 'Phone'}, {'Profit Margin': 551.73, 'Product': 'Bapple 10', 'Product Type': 'Phone'}, {'Profit Margin': 552.3000000000001, 'Product': 'ThinkerpadX 13', 'Product Type': 'Laptop'}, {'Profit Margin': 600.8000000000001, 'Product': 'ThinkerpadX 15', 'Product Type': 'Laptop'}, {'Profit Margin': 652.83, 'Product': 'Bapple 11', 'Product Type': 'Phone'}, {'Profit Margin': 700.95, 'Product': 'Surface Elite 5', 'Product Type': 'Laptop'}, {'Profit Margin': 813.0500000000001, 'Product': 'Surface Elite 7', 'Product Type': 'Laptop'}, {'Profit Margin': 852.8499999999999, 'Product': 'Bapple 12', 'Product Type': 'Phone'}]\n"
     ]
    }
   ],
   "source": [
    "def merge_sort(arr):\n",
    "    def merge(left, right):\n",
    "        arr = []\n",
    "        while len(left) > 0 and len(right) > 0:\n",
    "            if left[0]['Profit Margin'] >= right[0]['Profit Margin']:\n",
    "                arr.append(left.pop(0))\n",
    "            else:\n",
    "                arr.append(right.pop(0))\n",
    "        return arr + left + right\n",
    "    \n",
    "    if len(arr) <= 1:  # base case\n",
    "        return arr\n",
    "    mid = len(arr) // 2\n",
    "    left, right = arr[:mid], arr[mid:]\n",
    "    left, right = merge_sort(left), merge_sort(right)\n",
    "    return merge(left, right)\n",
    "\n",
    "profit_data = merge_sort(profit_data)\n",
    "print(profit_data)"
   ]
  }
 ],
 "metadata": {
  "kernelspec": {
   "display_name": "Python 3",
   "language": "python",
   "name": "python3"
  },
  "language_info": {
   "codemirror_mode": {
    "name": "ipython",
    "version": 3
   },
   "file_extension": ".py",
   "mimetype": "text/x-python",
   "name": "python",
   "nbconvert_exporter": "python",
   "pygments_lexer": "ipython3",
   "version": "3.6.4"
  }
 },
 "nbformat": 4,
 "nbformat_minor": 2
}
